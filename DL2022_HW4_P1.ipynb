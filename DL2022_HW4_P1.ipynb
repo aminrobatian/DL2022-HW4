{
 "cells": [
  {
   "cell_type": "markdown",
   "id": "6b78ca80",
   "metadata": {
    "id": "6b78ca80"
   },
   "source": [
    "# Deep Learning\n",
    "## HW4 - Problem 1\n",
    "\n",
    "\n",
    "> Sequence-To-Sequence (Seq2Seq) Models\n",
    "\n",
    "\n",
    "\n",
    "Name: **Amin Robatian**\n",
    "\n",
    "Student Number: **400301075**\n",
    "\n",
    "The following two papers are very helpful for doing this exercise:\n",
    "\n",
    "\n",
    "*   [1] Sequence to Sequence Learning with Neural Networks  (arXiv:1409.3215)\n",
    "*    [2] Neural Machine Translation by Jointly Learning to Align and Translate (arXiv:1409.0473)\n",
    "\n"
   ]
  },
  {
   "cell_type": "code",
   "execution_count": 1,
   "id": "a76b2789",
   "metadata": {
    "colab": {
     "base_uri": "https://localhost:8080/"
    },
    "id": "a76b2789",
    "outputId": "697c1240-80cc-465f-dab6-2b472e39828e"
   },
   "outputs": [
    {
     "name": "stdout",
     "output_type": "stream",
     "text": [
      "Device: cuda\n"
     ]
    }
   ],
   "source": [
    "# Import required packages\n",
    "import torch\n",
    "import torch.nn as nn\n",
    "import torch.nn.functional as F\n",
    "import torch.optim as optim\n",
    "from torch.utils.data import DataLoader, Dataset\n",
    "from torch.nn.utils.rnn import pad_sequence\n",
    "\n",
    "import torchtext\n",
    "from torchtext.data import get_tokenizer\n",
    "\n",
    "### Tokenizer\n",
    "tokenizer = get_tokenizer(\"basic_english\")\n",
    "\n",
    "import numpy as np\n",
    "import pandas as pd\n",
    "from sklearn.model_selection import train_test_split\n",
    "import matplotlib.pyplot as plt\n",
    "%matplotlib inline\n",
    "\n",
    "import random\n",
    "import math\n",
    "import time\n",
    "\n",
    "SEED = 80\n",
    "\n",
    "random.seed(SEED)\n",
    "np.random.seed(SEED)\n",
    "torch.manual_seed(SEED)\n",
    "torch.cuda.manual_seed(SEED)\n",
    "torch.backends.cudnn.deterministic = True\n",
    "\n",
    "device = torch.device('cuda' if torch.cuda.is_available() else 'cpu')\n",
    "print(f'Device: {device}')"
   ]
  },
  {
   "cell_type": "markdown",
   "id": "bc2afe41",
   "metadata": {
    "id": "bc2afe41"
   },
   "source": [
    "# Data Preprocessing "
   ]
  },
  {
   "cell_type": "code",
   "execution_count": 2,
   "id": "e0yvF4gABYb5",
   "metadata": {
    "id": "e0yvF4gABYb5"
   },
   "outputs": [],
   "source": [
    "path = './ferdousi.txt'"
   ]
  },
  {
   "cell_type": "code",
   "execution_count": 3,
   "id": "bdGGg3KpBcbI",
   "metadata": {
    "id": "bdGGg3KpBcbI"
   },
   "outputs": [],
   "source": [
    "def text_to_data(path):\n",
    "    file_gen = file_reader(path)\n",
    "    poem_dict = {'source':[], 'target':[]}\n",
    "    \n",
    "    for line, text in enumerate(file_gen):\n",
    "        if line < 2 : continue # Ignore first two lines\n",
    "        if line % 4 == 2:\n",
    "            b1 = ''\n",
    "            b1 = text[:-1]\n",
    "        elif line % 4  == 3:\n",
    "            b1 = b1 + ' / ' + text[:-1]\n",
    "            poem_dict['source'].append(b1)\n",
    "        elif line % 4 == 0:\n",
    "            b2 = ''\n",
    "            b2 = text[:-1]\n",
    "        else:\n",
    "            b2 = b2 + ' / ' + text[:-1]\n",
    "            poem_dict['target'].append(b2)\n",
    "        \n",
    "    return pd.DataFrame(poem_dict)\n",
    "\n",
    "def file_reader(path):\n",
    "    with open(path) as file:\n",
    "        for row in file:\n",
    "            yield row"
   ]
  },
  {
   "cell_type": "code",
   "execution_count": 4,
   "id": "oVL9KRQY8Ggf",
   "metadata": {
    "colab": {
     "base_uri": "https://localhost:8080/",
     "height": 424
    },
    "id": "oVL9KRQY8Ggf",
    "outputId": "f0262b59-9004-4e8a-9a3c-71d0e93fd173"
   },
   "outputs": [
    {
     "data": {
      "text/html": [
       "<div>\n",
       "<style scoped>\n",
       "    .dataframe tbody tr th:only-of-type {\n",
       "        vertical-align: middle;\n",
       "    }\n",
       "\n",
       "    .dataframe tbody tr th {\n",
       "        vertical-align: top;\n",
       "    }\n",
       "\n",
       "    .dataframe thead th {\n",
       "        text-align: right;\n",
       "    }\n",
       "</style>\n",
       "<table border=\"1\" class=\"dataframe\">\n",
       "  <thead>\n",
       "    <tr style=\"text-align: right;\">\n",
       "      <th></th>\n",
       "      <th>source</th>\n",
       "      <th>target</th>\n",
       "    </tr>\n",
       "  </thead>\n",
       "  <tbody>\n",
       "    <tr>\n",
       "      <th>0</th>\n",
       "      <td>به نام خداوند جان و خرد / کزین برتر اندیشه برن...</td>\n",
       "      <td>خداوند نام و خداوند جای / خداوند روزی ده رهنمای</td>\n",
       "    </tr>\n",
       "    <tr>\n",
       "      <th>1</th>\n",
       "      <td>خداوند کیوان و گردان سپهر / فروزنده ماه و ناهی...</td>\n",
       "      <td>ز نام و نشان و گمان برترست / نگارندهٔ بر شده پ...</td>\n",
       "    </tr>\n",
       "    <tr>\n",
       "      <th>2</th>\n",
       "      <td>به بینندگان آفریننده را / نبینی مرنجان دو بینن...</td>\n",
       "      <td>نیابد بدو نیز اندیشه راه / که او برتر از نام و...</td>\n",
       "    </tr>\n",
       "    <tr>\n",
       "      <th>3</th>\n",
       "      <td>سخن هر چه زین گوهران بگذرد / نیابد بدو راه جان...</td>\n",
       "      <td>خرد گر سخن برگزیند همی / همان را گزیند که بیند...</td>\n",
       "    </tr>\n",
       "    <tr>\n",
       "      <th>4</th>\n",
       "      <td>ستودن نداند کس او را چو هست / میان بندگی را بب...</td>\n",
       "      <td>خرد را و جان را همی سنجد اوی / در اندیشهٔ سخته...</td>\n",
       "    </tr>\n",
       "    <tr>\n",
       "      <th>...</th>\n",
       "      <td>...</td>\n",
       "      <td>...</td>\n",
       "    </tr>\n",
       "    <tr>\n",
       "      <th>24799</th>\n",
       "      <td>چو سال اندر آمد به هفتاد ویک / همی زیر بیت اند...</td>\n",
       "      <td>همی گاه محمود آباد باد / سرش سبز باد و دلش شاد...</td>\n",
       "    </tr>\n",
       "    <tr>\n",
       "      <th>24800</th>\n",
       "      <td>چنانش ستایم که اندر جهان / سخن باشد از آشکار و...</td>\n",
       "      <td>مرا از بزرگان ستایش بود / ستایش ورا در فزایش بود</td>\n",
       "    </tr>\n",
       "    <tr>\n",
       "      <th>24801</th>\n",
       "      <td>که جاوید باد آن خردمند مرد / همیشه به کام دلش ...</td>\n",
       "      <td>همش رای و هم دانش وهم نسب / چراغ عجم آفتاب عرب</td>\n",
       "    </tr>\n",
       "    <tr>\n",
       "      <th>24802</th>\n",
       "      <td>سرآمد کنون قصهٔ یزدگرد / به ماه سفندار مد روز ارد</td>\n",
       "      <td>ز هجرت شده پنج هشتادبار / به نام جهانداور کردگار</td>\n",
       "    </tr>\n",
       "    <tr>\n",
       "      <th>24803</th>\n",
       "      <td>چواین نامور نامه آمد ببن / ز من روی کشور شود پ...</td>\n",
       "      <td>از آن پس نمیرم که من زنده ام / که تخم سخن من پ...</td>\n",
       "    </tr>\n",
       "  </tbody>\n",
       "</table>\n",
       "<p>24804 rows × 2 columns</p>\n",
       "</div>"
      ],
      "text/plain": [
       "                                                  source  \\\n",
       "0      به نام خداوند جان و خرد / کزین برتر اندیشه برن...   \n",
       "1      خداوند کیوان و گردان سپهر / فروزنده ماه و ناهی...   \n",
       "2      به بینندگان آفریننده را / نبینی مرنجان دو بینن...   \n",
       "3      سخن هر چه زین گوهران بگذرد / نیابد بدو راه جان...   \n",
       "4      ستودن نداند کس او را چو هست / میان بندگی را بب...   \n",
       "...                                                  ...   \n",
       "24799  چو سال اندر آمد به هفتاد ویک / همی زیر بیت اند...   \n",
       "24800  چنانش ستایم که اندر جهان / سخن باشد از آشکار و...   \n",
       "24801  که جاوید باد آن خردمند مرد / همیشه به کام دلش ...   \n",
       "24802  سرآمد کنون قصهٔ یزدگرد / به ماه سفندار مد روز ارد   \n",
       "24803  چواین نامور نامه آمد ببن / ز من روی کشور شود پ...   \n",
       "\n",
       "                                                  target  \n",
       "0        خداوند نام و خداوند جای / خداوند روزی ده رهنمای  \n",
       "1      ز نام و نشان و گمان برترست / نگارندهٔ بر شده پ...  \n",
       "2      نیابد بدو نیز اندیشه راه / که او برتر از نام و...  \n",
       "3      خرد گر سخن برگزیند همی / همان را گزیند که بیند...  \n",
       "4      خرد را و جان را همی سنجد اوی / در اندیشهٔ سخته...  \n",
       "...                                                  ...  \n",
       "24799  همی گاه محمود آباد باد / سرش سبز باد و دلش شاد...  \n",
       "24800   مرا از بزرگان ستایش بود / ستایش ورا در فزایش بود  \n",
       "24801     همش رای و هم دانش وهم نسب / چراغ عجم آفتاب عرب  \n",
       "24802   ز هجرت شده پنج هشتادبار / به نام جهانداور کردگار  \n",
       "24803  از آن پس نمیرم که من زنده ام / که تخم سخن من پ...  \n",
       "\n",
       "[24804 rows x 2 columns]"
      ]
     },
     "execution_count": 4,
     "metadata": {},
     "output_type": "execute_result"
    }
   ],
   "source": [
    "df = text_to_data(path)\n",
    "df"
   ]
  },
  {
   "cell_type": "markdown",
   "id": "6K-sYOONMBoD",
   "metadata": {
    "id": "6K-sYOONMBoD"
   },
   "source": [
    "### Train & Test Split"
   ]
  },
  {
   "cell_type": "code",
   "execution_count": 5,
   "id": "DX7GCBNnB-s1",
   "metadata": {
    "id": "DX7GCBNnB-s1"
   },
   "outputs": [],
   "source": [
    "train_df, test_df = train_test_split(df, test_size=0.2)\n",
    "\n",
    "train_df = train_df.reset_index(drop=True)\n",
    "test_df = test_df.reset_index(drop=True)"
   ]
  },
  {
   "cell_type": "markdown",
   "id": "aVi3HFKsFBVg",
   "metadata": {
    "id": "aVi3HFKsFBVg"
   },
   "source": [
    "### Creating a Dictionary for Ferdousi Poems"
   ]
  },
  {
   "cell_type": "code",
   "execution_count": 6,
   "id": "F2M4GQm88WaS",
   "metadata": {
    "id": "F2M4GQm88WaS"
   },
   "outputs": [],
   "source": [
    "class Vocabulary():\n",
    "    def __init__(self, freq_threshold):\n",
    "        self.itos = {0: \"<PAD>\", 1: \"<SOS>\", 2: \"<EOS>\", 3: \"<UNK>\"}\n",
    "        self.stoi = {\"<PAD>\": 0, \"<SOS>\": 1, \"<EOS>\": 2, \"<UNK>\": 3}\n",
    "        self.freq_threshold = freq_threshold\n",
    "\n",
    "    def __len__(self):\n",
    "        return len(self.itos)\n",
    "\n",
    "    @staticmethod\n",
    "    def tokenizer_eng(text):\n",
    "        return [tok for tok in tokenizer(text)]\n",
    "\n",
    "    def build_vocabulary(self, sentence_list):\n",
    "        frequencies = {}\n",
    "        idx = 4\n",
    "        for sentence in sentence_list:\n",
    "            for word in self.tokenizer_eng(sentence):\n",
    "                if word not in frequencies:\n",
    "                    frequencies[word] = 1\n",
    "\n",
    "                else:\n",
    "                    frequencies[word] += 1\n",
    "\n",
    "                if frequencies[word] == self.freq_threshold:\n",
    "                    self.stoi[word] = idx\n",
    "                    self.itos[idx] = word\n",
    "                    idx += 1\n",
    "\n",
    "    def numericalize(self, text):\n",
    "        tokenized_text = self.tokenizer_eng(text)\n",
    "\n",
    "        return [\n",
    "            self.stoi[token] if token in self.stoi else self.stoi[\"<UNK>\"]\n",
    "            for token in tokenized_text\n",
    "        ]"
   ]
  },
  {
   "cell_type": "code",
   "execution_count": 7,
   "id": "AcRBD-f0tyrR",
   "metadata": {
    "id": "AcRBD-f0tyrR"
   },
   "outputs": [],
   "source": [
    "threshold=2\n",
    "Ferdousi_Vocab = Vocabulary(threshold)"
   ]
  },
  {
   "cell_type": "markdown",
   "id": "WJdycGlkFMJ3",
   "metadata": {
    "id": "WJdycGlkFMJ3"
   },
   "source": [
    "### Train & Test Dataclass"
   ]
  },
  {
   "cell_type": "code",
   "execution_count": 8,
   "id": "Hv0xgu2O8b2H",
   "metadata": {
    "id": "Hv0xgu2O8b2H"
   },
   "outputs": [],
   "source": [
    "class FerdousiDataset(Dataset):\n",
    "    def __init__(self, threshold=2, train_df=None, test_df=None, vocabulary=None):\n",
    "\n",
    "        self.train_df = train_df\n",
    "        self.test_df = test_df\n",
    "\n",
    "        if self.train_df is not None:\n",
    "          self.data = self.train_df\n",
    "        else:\n",
    "          self.data = self.test_df\n",
    "\n",
    "        self.data.rename(columns={'source': 'Input', 'target': 'Output'}, inplace=True)\n",
    "\n",
    "        # Initialize vocabulary and build vocab\n",
    "        self.vocab = vocabulary\n",
    "        input_list = self.data['Input'].to_list()\n",
    "        output_list = self.data['Output'].to_list()\n",
    "        input_list.extend(output_list) \n",
    "        \n",
    "        if self.train_df is not None:\n",
    "          self.vocab.build_vocabulary(input_list)\n",
    "\n",
    "        self.dictionary_size = len(self.vocab.itos)\n",
    "        self.PAD_IDX = self.vocab.stoi['<PAD>']\n",
    "\n",
    "    def __len__(self):\n",
    "        return len(self.data)\n",
    "\n",
    "    def __getitem__(self, index):\n",
    "        inp = self.data.loc[index,'Input']\n",
    "        out = self.data.loc[index, 'Output']\n",
    "        \n",
    "\n",
    "        numericalized_input = [self.vocab.stoi[\"<SOS>\"]]\n",
    "        numericalized_input += self.vocab.numericalize(inp)\n",
    "        numericalized_input.append(self.vocab.stoi[\"<EOS>\"])\n",
    "\n",
    "        numericalized_output = [self.vocab.stoi[\"<SOS>\"]]\n",
    "        numericalized_output += self.vocab.numericalize(out)\n",
    "        numericalized_output.append(self.vocab.stoi[\"<EOS>\"])\n",
    "        sample = {\n",
    "            'Input': torch.tensor(numericalized_input),\n",
    "            'Output': torch.tensor(numericalized_output)\n",
    "        }\n",
    "\n",
    "        return sample"
   ]
  },
  {
   "cell_type": "code",
   "execution_count": 9,
   "id": "TT9gN538FUaF",
   "metadata": {
    "colab": {
     "base_uri": "https://localhost:8080/"
    },
    "id": "TT9gN538FUaF",
    "outputId": "3fea9618-b8dd-44f9-f933-16a4c1c94e4c"
   },
   "outputs": [
    {
     "name": "stdout",
     "output_type": "stream",
     "text": [
      "Number of words in Ferdousi dictionary: 9,171\n"
     ]
    }
   ],
   "source": [
    "train_dataset = FerdousiDataset(train_df=train_df, vocabulary=Ferdousi_Vocab)\n",
    "test_dataset = FerdousiDataset(test_df=test_df, vocabulary=Ferdousi_Vocab)\n",
    "\n",
    "dictionary_size = train_dataset.dictionary_size\n",
    "print(f'Number of words in Ferdousi dictionary: {dictionary_size:,}')"
   ]
  },
  {
   "cell_type": "code",
   "execution_count": 10,
   "id": "OMYAqWwXI2Ma",
   "metadata": {
    "colab": {
     "base_uri": "https://localhost:8080/"
    },
    "id": "OMYAqWwXI2Ma",
    "outputId": "589d0599-d683-4fe0-d036-c4c6238e6aa1"
   },
   "outputs": [
    {
     "name": "stdout",
     "output_type": "stream",
     "text": [
      "Number of training examples: 19,843\n",
      "Number of testing examples: 4,961\n"
     ]
    }
   ],
   "source": [
    "print(f\"Number of training examples: {len(train_dataset):,}\")\n",
    "print(f\"Number of testing examples: {len(test_dataset):,}\")"
   ]
  },
  {
   "cell_type": "markdown",
   "id": "DOrrDm32HRF2",
   "metadata": {
    "id": "DOrrDm32HRF2"
   },
   "source": [
    "### Dataloader"
   ]
  },
  {
   "cell_type": "code",
   "execution_count": 11,
   "id": "oinkbjzy8h3P",
   "metadata": {
    "id": "oinkbjzy8h3P"
   },
   "outputs": [],
   "source": [
    "class MyCollate():\n",
    "    def __init__(self, pad_idx):\n",
    "        self.pad_idx = pad_idx\n",
    "\n",
    "    def __call__(self, batch):\n",
    "        inp = [item['Input'] for item in batch]\n",
    "        out = [item['Output'] for item in batch]\n",
    "        Input = pad_sequence(inp, batch_first=False, padding_value=self.pad_idx)\n",
    "        Output = pad_sequence(out, batch_first=False, padding_value=self.pad_idx)\n",
    "\n",
    "\n",
    "        return Input, Output"
   ]
  },
  {
   "cell_type": "code",
   "execution_count": 12,
   "id": "-TOfqoQw8x3u",
   "metadata": {
    "id": "-TOfqoQw8x3u"
   },
   "outputs": [],
   "source": [
    "BATCH_SIZE = 128\n",
    "pad_idx = train_dataset.vocab.stoi[\"<PAD>\"]\n",
    "\n",
    "train_dataloader = DataLoader(dataset=train_dataset,\n",
    "                              batch_size=BATCH_SIZE,\n",
    "                              shuffle=True,\n",
    "                              collate_fn=MyCollate(pad_idx=pad_idx))\n",
    "test_dataloader = DataLoader(test_dataset,\n",
    "                             batch_size=BATCH_SIZE,\n",
    "                             shuffle=False,\n",
    "                             collate_fn=MyCollate(pad_idx=pad_idx))"
   ]
  },
  {
   "cell_type": "markdown",
   "id": "uu-fapZj7vSg",
   "metadata": {
    "id": "uu-fapZj7vSg"
   },
   "source": [
    "# **Part (A) - LSTM**"
   ]
  },
  {
   "cell_type": "markdown",
   "id": "WynxeoC9H0S2",
   "metadata": {
    "id": "WynxeoC9H0S2"
   },
   "source": [
    "### Encoder"
   ]
  },
  {
   "cell_type": "code",
   "execution_count": 13,
   "id": "za0auGuwHyw0",
   "metadata": {
    "id": "za0auGuwHyw0"
   },
   "outputs": [],
   "source": [
    "class Encoder(nn.Module):\n",
    "    def __init__(self, input_dim, emb_dim, hid_dim, n_layers, dropout):\n",
    "        super().__init__()\n",
    "        \n",
    "        self.hid_dim = hid_dim\n",
    "        self.n_layers = n_layers\n",
    "        \n",
    "        self.embedding = nn.Embedding(input_dim, emb_dim)\n",
    "        \n",
    "        self.rnn = nn.LSTM(emb_dim, hid_dim, n_layers, dropout = dropout)\n",
    "        \n",
    "        self.dropout = nn.Dropout(dropout)\n",
    "        \n",
    "    def forward(self, src):\n",
    "        \n",
    "        #src = [src len, batch size]\n",
    "        \n",
    "        embedded = self.dropout(self.embedding(src))\n",
    "        \n",
    "        #embedded = [src len, batch size, emb dim]\n",
    "        \n",
    "        outputs, (hidden, cell) = self.rnn(embedded)\n",
    "\n",
    "        # n_directions will always be 1, however for bidirectional RNNs will be 2\n",
    "        #outputs = [src len, batch size, hid dim * n directions]\n",
    "        #hidden = [n layers * n directions, batch size, hid dim]\n",
    "        #cell = [n layers * n directions, batch size, hid dim]\n",
    "        \n",
    "        #outputs are always from the top hidden layer\n",
    "        \n",
    "        return hidden, cell"
   ]
  },
  {
   "cell_type": "markdown",
   "id": "oM743yZ4H6B-",
   "metadata": {
    "id": "oM743yZ4H6B-"
   },
   "source": [
    "### Decoder"
   ]
  },
  {
   "cell_type": "code",
   "execution_count": 14,
   "id": "9L-6hzU4H9kD",
   "metadata": {
    "id": "9L-6hzU4H9kD"
   },
   "outputs": [],
   "source": [
    "class Decoder(nn.Module):\n",
    "    def __init__(self, output_dim, emb_dim, hid_dim, n_layers, dropout):\n",
    "        super().__init__()\n",
    "        \n",
    "        self.output_dim = output_dim\n",
    "        self.hid_dim = hid_dim\n",
    "        self.n_layers = n_layers\n",
    "        \n",
    "        self.embedding = nn.Embedding(output_dim, emb_dim)\n",
    "        \n",
    "        self.rnn = nn.LSTM(emb_dim, hid_dim, n_layers, dropout = dropout)\n",
    "        \n",
    "        self.fc_out = nn.Linear(hid_dim, output_dim)\n",
    "        \n",
    "        self.dropout = nn.Dropout(dropout)\n",
    "        \n",
    "    def forward(self, input, hidden, cell):\n",
    "        \n",
    "        #input = [batch size]\n",
    "        #hidden = [n layers * n directions, batch size, hid dim]\n",
    "        #cell = [n layers * n directions, batch size, hid dim]\n",
    "        \n",
    "        #n directions in the decoder will both always be 1, therefore:\n",
    "        #hidden = [n layers, batch size, hid dim]\n",
    "        #context = [n layers, batch size, hid dim]\n",
    "        \n",
    "        input = input.unsqueeze(0)\n",
    "        \n",
    "        #input = [1, batch size]\n",
    "        \n",
    "        embedded = self.dropout(self.embedding(input))\n",
    "        \n",
    "        #embedded = [1, batch size, emb dim]\n",
    "                \n",
    "        output, (hidden, cell) = self.rnn(embedded, (hidden, cell))\n",
    "        \n",
    "        #output = [seq len, batch size, hid dim * n directions]\n",
    "        #hidden = [n layers * n directions, batch size, hid dim]\n",
    "        #cell = [n layers * n directions, batch size, hid dim]\n",
    "        \n",
    "        #seq len and n directions will always be 1 in the decoder, therefore:\n",
    "        #output = [1, batch size, hid dim]\n",
    "        #hidden = [n layers, batch size, hid dim]\n",
    "        #cell = [n layers, batch size, hid dim]\n",
    "        \n",
    "        prediction = self.fc_out(output.squeeze(0))\n",
    "        \n",
    "        #prediction = [batch size, output dim]\n",
    "        \n",
    "        return prediction, hidden, cell"
   ]
  },
  {
   "cell_type": "markdown",
   "id": "2Iq85NX3NP4v",
   "metadata": {
    "id": "2Iq85NX3NP4v"
   },
   "source": [
    "### Seq2Seq"
   ]
  },
  {
   "cell_type": "code",
   "execution_count": 15,
   "id": "sc_vZfmLNRHE",
   "metadata": {
    "id": "sc_vZfmLNRHE"
   },
   "outputs": [],
   "source": [
    "class Seq2Seq(nn.Module):\n",
    "    def __init__(self, encoder, decoder, device):\n",
    "        super().__init__()\n",
    "        \n",
    "        self.encoder = encoder\n",
    "        self.decoder = decoder\n",
    "        self.device = device\n",
    "        \n",
    "        assert encoder.hid_dim == decoder.hid_dim, \\\n",
    "            \"Hidden dimensions of encoder and decoder must be equal!\"\n",
    "        assert encoder.n_layers == decoder.n_layers, \\\n",
    "            \"Encoder and decoder must have equal number of layers!\"\n",
    "        \n",
    "    def forward(self, src, trg, teacher_forcing_ratio = 0.5):\n",
    "        \n",
    "        #src = [src len, batch size]\n",
    "        #trg = [trg len, batch size]\n",
    "        #teacher_forcing_ratio is probability to use teacher forcing\n",
    "        #e.g. if teacher_forcing_ratio is 0.75 we use ground-truth inputs 75% of the time\n",
    "        \n",
    "        batch_size = trg.shape[1]\n",
    "        trg_len = trg.shape[0]\n",
    "        trg_vocab_size = self.decoder.output_dim\n",
    "        \n",
    "        #tensor to store decoder outputs\n",
    "        outputs = torch.zeros(trg_len, batch_size, trg_vocab_size).to(self.device)\n",
    "        \n",
    "        #last hidden state of the encoder is used as the initial hidden state of the decoder\n",
    "        hidden, cell = self.encoder(src)\n",
    "        \n",
    "        #first input to the decoder is the <sos> tokens\n",
    "        input = trg[0,:]\n",
    "        \n",
    "        for t in range(1, trg_len):\n",
    "            \n",
    "            #insert input token embedding, previous hidden and previous cell states\n",
    "            #receive output tensor (predictions) and new hidden and cell states\n",
    "            output, hidden, cell = self.decoder(input, hidden, cell)\n",
    "            \n",
    "            #place predictions in a tensor holding predictions for each token\n",
    "            outputs[t] = output\n",
    "            \n",
    "            #decide if we are going to use teacher forcing or not\n",
    "            teacher_force = random.random() < teacher_forcing_ratio\n",
    "            \n",
    "            #get the highest predicted token from our predictions\n",
    "            top1 = output.argmax(1) \n",
    "            \n",
    "            #if teacher forcing, use actual next token as next input\n",
    "            #if not, use predicted token\n",
    "            input = trg[t] if teacher_force else top1\n",
    "        \n",
    "        return outputs"
   ]
  },
  {
   "cell_type": "markdown",
   "id": "oMn6gP8OOP2z",
   "metadata": {
    "id": "oMn6gP8OOP2z"
   },
   "source": [
    "### Training the Seq2Seq Model"
   ]
  },
  {
   "cell_type": "code",
   "execution_count": 16,
   "id": "-XRNpghSOS_p",
   "metadata": {
    "id": "-XRNpghSOS_p"
   },
   "outputs": [],
   "source": [
    "INPUT_DIM = dictionary_size\n",
    "OUTPUT_DIM = dictionary_size\n",
    "ENC_EMB_DIM = 256\n",
    "DEC_EMB_DIM = 256\n",
    "HID_DIM = 512\n",
    "N_LAYERS = 2\n",
    "ENC_DROPOUT = 0.5\n",
    "DEC_DROPOUT = 0.5\n",
    "\n",
    "\n",
    "\n",
    "TRG_PAD_IDX = train_dataset.PAD_IDX\n",
    "criterion = nn.CrossEntropyLoss(ignore_index = TRG_PAD_IDX)\n",
    "\n",
    "enc = Encoder(INPUT_DIM, ENC_EMB_DIM, HID_DIM, N_LAYERS, ENC_DROPOUT)\n",
    "dec = Decoder(OUTPUT_DIM, DEC_EMB_DIM, HID_DIM, N_LAYERS, DEC_DROPOUT)\n",
    "\n",
    "model = Seq2Seq(enc, dec, device).to(device)\n",
    "\n",
    "optimizer = optim.Adam(model.parameters())"
   ]
  },
  {
   "cell_type": "code",
   "execution_count": 17,
   "id": "cbf4e2a3",
   "metadata": {},
   "outputs": [
    {
     "data": {
      "text/plain": [
       "Seq2Seq(\n",
       "  (encoder): Encoder(\n",
       "    (embedding): Embedding(9171, 256)\n",
       "    (rnn): LSTM(256, 512, num_layers=2, dropout=0.5)\n",
       "    (dropout): Dropout(p=0.5, inplace=False)\n",
       "  )\n",
       "  (decoder): Decoder(\n",
       "    (embedding): Embedding(9171, 256)\n",
       "    (rnn): LSTM(256, 512, num_layers=2, dropout=0.5)\n",
       "    (fc_out): Linear(in_features=512, out_features=9171, bias=True)\n",
       "    (dropout): Dropout(p=0.5, inplace=False)\n",
       "  )\n",
       ")"
      ]
     },
     "execution_count": 17,
     "metadata": {},
     "output_type": "execute_result"
    }
   ],
   "source": [
    "# initializing the weights of model\n",
    "# in the below paper they state they initialize all weights from a uniform distribution between -0.08 and +0.08\n",
    "# Paper: Sequence to Sequence Learning with Neural Networks\n",
    "\n",
    "def init_weights(m):\n",
    "    for name, param in m.named_parameters():\n",
    "        nn.init.uniform_(param.data, -0.08, 0.08)\n",
    "        \n",
    "model.apply(init_weights)"
   ]
  },
  {
   "cell_type": "code",
   "execution_count": 18,
   "id": "3nPvYOFrPLKH",
   "metadata": {
    "colab": {
     "base_uri": "https://localhost:8080/"
    },
    "id": "3nPvYOFrPLKH",
    "outputId": "fd78b646-0fb5-41bd-89d7-f6155d9b5639"
   },
   "outputs": [
    {
     "name": "stdout",
     "output_type": "stream",
     "text": [
      "The model has 16,756,691 trainable parameters\n"
     ]
    }
   ],
   "source": [
    "print(f'The model has {sum(p.numel() for p in model.parameters() if p.requires_grad):,} trainable parameters')"
   ]
  },
  {
   "cell_type": "markdown",
   "id": "tLQmI6JLP5Oz",
   "metadata": {
    "id": "tLQmI6JLP5Oz"
   },
   "source": [
    "### Training Loop"
   ]
  },
  {
   "cell_type": "code",
   "execution_count": 19,
   "id": "fkbp7YL9P1Fd",
   "metadata": {
    "id": "fkbp7YL9P1Fd"
   },
   "outputs": [],
   "source": [
    "def train(model, iterator, optimizer, criterion, clip):\n",
    "    \n",
    "    model.train()\n",
    "    \n",
    "    for i, (input, output) in enumerate(iterator):\n",
    "        \n",
    "        src = input.to(device)\n",
    "        trg = output.to(device)\n",
    "        \n",
    "        optimizer.zero_grad()\n",
    "        \n",
    "        output = model(src, trg, teacher_forcing_ratio=1)\n",
    "        \n",
    "        #trg = [trg len, batch size]\n",
    "        #output = [trg len, batch size, output dim]\n",
    "        \n",
    "        output_dim = output.shape[-1]\n",
    "        \n",
    "        output = output[1:].view(-1, output_dim)\n",
    "        trg = trg[1:].view(-1)\n",
    "        \n",
    "        #trg = [(trg len - 1) * batch size]\n",
    "        #output = [(trg len - 1) * batch size, output dim]\n",
    "        \n",
    "        loss = criterion(output, trg)\n",
    "        \n",
    "        loss.backward()\n",
    "        \n",
    "        torch.nn.utils.clip_grad_norm_(model.parameters(), clip)\n",
    "        \n",
    "        optimizer.step()\n",
    "        "
   ]
  },
  {
   "cell_type": "markdown",
   "id": "x4Zo_B5WQTay",
   "metadata": {
    "id": "x4Zo_B5WQTay"
   },
   "source": [
    "### Evaluation Loop"
   ]
  },
  {
   "cell_type": "code",
   "execution_count": 20,
   "id": "M95ceBUuQQTk",
   "metadata": {
    "id": "M95ceBUuQQTk"
   },
   "outputs": [],
   "source": [
    "def evaluate(model, iterator, criterion):\n",
    "    \n",
    "    model.eval()\n",
    "    \n",
    "    epoch_loss = 0\n",
    "    epoch_accuracy = 0\n",
    "    dataset_length = 0\n",
    "\n",
    "    with torch.no_grad():\n",
    "    \n",
    "        for i, (input, output) in enumerate(iterator):\n",
    "\n",
    "            src = input.to(device)\n",
    "            trg = output.to(device)\n",
    "\n",
    "            output = model(src, trg, 1) #turn off teacher forcing\n",
    "\n",
    "            #trg = [trg len, batch size]\n",
    "            #output = [trg len, batch size, output dim]\n",
    "            m, n = trg.size() \n",
    "\n",
    "            epoch_accuracy += (output.argmax(dim=2) == trg).sum().item()\n",
    "            dataset_length += (m * n)\n",
    "\n",
    "            output_dim = output.shape[-1]\n",
    "            \n",
    "            output = output[1:].view(-1, output_dim)\n",
    "            trg = trg[1:].view(-1)\n",
    "\n",
    "            #trg = [(trg len - 1) * batch size]\n",
    "            #output = [(trg len - 1) * batch size, output dim]\n",
    "\n",
    "            loss = criterion(output, trg)\n",
    "            \n",
    "            epoch_loss += loss.item()\n",
    "        \n",
    "    return epoch_loss / len(iterator), epoch_accuracy / dataset_length"
   ]
  },
  {
   "cell_type": "code",
   "execution_count": 21,
   "id": "qUFpX5Y9Qeim",
   "metadata": {
    "id": "qUFpX5Y9Qeim"
   },
   "outputs": [],
   "source": [
    "def epoch_time(start_time, end_time):\n",
    "    elapsed_time = end_time - start_time\n",
    "    elapsed_mins = int(elapsed_time / 60)\n",
    "    elapsed_secs = int(elapsed_time - (elapsed_mins * 60))\n",
    "    return elapsed_mins, elapsed_secs"
   ]
  },
  {
   "cell_type": "markdown",
   "id": "dgIqgySjQvLi",
   "metadata": {
    "id": "dgIqgySjQvLi"
   },
   "source": [
    "### Model Training"
   ]
  },
  {
   "cell_type": "code",
   "execution_count": 22,
   "id": "HXqh7hw5Qpdb",
   "metadata": {
    "colab": {
     "base_uri": "https://localhost:8080/"
    },
    "id": "HXqh7hw5Qpdb",
    "outputId": "848f8385-b275-4e56-b3c0-6f2f02584df1"
   },
   "outputs": [
    {
     "name": "stdout",
     "output_type": "stream",
     "text": [
      "Epoch: 01 | Time: 0m 15s\n",
      "\tTrain Loss: 5.600\n",
      "\tTrain Accuracy: 13.77%\n",
      "Epoch: 02 | Time: 0m 14s\n",
      "\tTrain Loss: 5.286\n",
      "\tTrain Accuracy: 15.12%\n",
      "Epoch: 03 | Time: 0m 14s\n",
      "\tTrain Loss: 5.065\n",
      "\tTrain Accuracy: 15.63%\n",
      "Epoch: 04 | Time: 0m 15s\n",
      "\tTrain Loss: 4.866\n",
      "\tTrain Accuracy: 16.32%\n",
      "Epoch: 05 | Time: 0m 14s\n",
      "\tTrain Loss: 4.689\n",
      "\tTrain Accuracy: 16.97%\n",
      "Epoch: 06 | Time: 0m 14s\n",
      "\tTrain Loss: 4.531\n",
      "\tTrain Accuracy: 17.59%\n",
      "Epoch: 07 | Time: 0m 15s\n",
      "\tTrain Loss: 4.399\n",
      "\tTrain Accuracy: 18.12%\n",
      "Epoch: 08 | Time: 0m 14s\n",
      "\tTrain Loss: 4.281\n",
      "\tTrain Accuracy: 18.63%\n",
      "Epoch: 09 | Time: 0m 14s\n",
      "\tTrain Loss: 4.168\n",
      "\tTrain Accuracy: 19.34%\n",
      "Epoch: 10 | Time: 0m 14s\n",
      "\tTrain Loss: 4.063\n",
      "\tTrain Accuracy: 19.83%\n",
      "Epoch: 11 | Time: 0m 15s\n",
      "\tTrain Loss: 3.958\n",
      "\tTrain Accuracy: 20.40%\n",
      "Epoch: 12 | Time: 0m 14s\n",
      "\tTrain Loss: 3.852\n",
      "\tTrain Accuracy: 20.96%\n",
      "Epoch: 13 | Time: 0m 14s\n",
      "\tTrain Loss: 3.761\n",
      "\tTrain Accuracy: 21.77%\n",
      "Epoch: 14 | Time: 0m 14s\n",
      "\tTrain Loss: 3.669\n",
      "\tTrain Accuracy: 22.40%\n",
      "Epoch: 15 | Time: 0m 14s\n",
      "\tTrain Loss: 3.566\n",
      "\tTrain Accuracy: 23.32%\n",
      "Epoch: 16 | Time: 0m 14s\n",
      "\tTrain Loss: 3.483\n",
      "\tTrain Accuracy: 23.99%\n",
      "Epoch: 17 | Time: 0m 14s\n",
      "\tTrain Loss: 3.396\n",
      "\tTrain Accuracy: 24.67%\n",
      "Epoch: 18 | Time: 0m 15s\n",
      "\tTrain Loss: 3.311\n",
      "\tTrain Accuracy: 25.39%\n",
      "Epoch: 19 | Time: 0m 14s\n",
      "\tTrain Loss: 3.238\n",
      "\tTrain Accuracy: 26.38%\n",
      "Epoch: 20 | Time: 0m 14s\n",
      "\tTrain Loss: 3.155\n",
      "\tTrain Accuracy: 27.01%\n",
      "Epoch: 21 | Time: 0m 14s\n",
      "\tTrain Loss: 3.083\n",
      "\tTrain Accuracy: 27.84%\n",
      "Epoch: 22 | Time: 0m 15s\n",
      "\tTrain Loss: 3.018\n",
      "\tTrain Accuracy: 28.55%\n",
      "Epoch: 23 | Time: 0m 15s\n",
      "\tTrain Loss: 2.955\n",
      "\tTrain Accuracy: 29.22%\n",
      "Epoch: 24 | Time: 0m 14s\n",
      "\tTrain Loss: 2.888\n",
      "\tTrain Accuracy: 29.90%\n",
      "Epoch: 25 | Time: 0m 15s\n",
      "\tTrain Loss: 2.831\n",
      "\tTrain Accuracy: 30.59%\n",
      "Epoch: 26 | Time: 0m 15s\n",
      "\tTrain Loss: 2.769\n",
      "\tTrain Accuracy: 31.27%\n",
      "Epoch: 27 | Time: 0m 14s\n",
      "\tTrain Loss: 2.711\n",
      "\tTrain Accuracy: 31.87%\n",
      "Epoch: 28 | Time: 0m 14s\n",
      "\tTrain Loss: 2.652\n",
      "\tTrain Accuracy: 32.79%\n",
      "Epoch: 29 | Time: 0m 14s\n",
      "\tTrain Loss: 2.598\n",
      "\tTrain Accuracy: 33.35%\n",
      "Epoch: 30 | Time: 0m 14s\n",
      "\tTrain Loss: 2.549\n",
      "\tTrain Accuracy: 33.90%\n",
      "Epoch: 31 | Time: 0m 14s\n",
      "\tTrain Loss: 2.495\n",
      "\tTrain Accuracy: 34.68%\n",
      "Epoch: 32 | Time: 0m 14s\n",
      "\tTrain Loss: 2.449\n",
      "\tTrain Accuracy: 35.40%\n",
      "Epoch: 33 | Time: 0m 8s\n",
      "\tTrain Loss: 2.407\n",
      "\tTrain Accuracy: 35.82%\n",
      "Epoch: 34 | Time: 0m 8s\n",
      "\tTrain Loss: 2.357\n",
      "\tTrain Accuracy: 36.59%\n",
      "Epoch: 35 | Time: 0m 8s\n",
      "\tTrain Loss: 2.316\n",
      "\tTrain Accuracy: 37.03%\n",
      "Epoch: 36 | Time: 0m 8s\n",
      "\tTrain Loss: 2.264\n",
      "\tTrain Accuracy: 37.74%\n",
      "Epoch: 37 | Time: 0m 8s\n",
      "\tTrain Loss: 2.226\n",
      "\tTrain Accuracy: 38.28%\n",
      "Epoch: 38 | Time: 0m 8s\n",
      "\tTrain Loss: 2.184\n",
      "\tTrain Accuracy: 38.70%\n",
      "Epoch: 39 | Time: 0m 8s\n",
      "\tTrain Loss: 2.141\n",
      "\tTrain Accuracy: 39.38%\n",
      "Epoch: 40 | Time: 0m 8s\n",
      "\tTrain Loss: 2.105\n",
      "\tTrain Accuracy: 39.99%\n",
      "Epoch: 41 | Time: 0m 8s\n",
      "\tTrain Loss: 2.065\n",
      "\tTrain Accuracy: 40.60%\n",
      "Epoch: 42 | Time: 0m 8s\n",
      "\tTrain Loss: 2.029\n",
      "\tTrain Accuracy: 40.95%\n",
      "Epoch: 43 | Time: 0m 8s\n",
      "\tTrain Loss: 1.990\n",
      "\tTrain Accuracy: 41.51%\n",
      "Epoch: 44 | Time: 0m 8s\n",
      "\tTrain Loss: 1.955\n",
      "\tTrain Accuracy: 41.93%\n",
      "Epoch: 45 | Time: 0m 8s\n",
      "\tTrain Loss: 1.925\n",
      "\tTrain Accuracy: 42.63%\n",
      "Epoch: 46 | Time: 0m 8s\n",
      "\tTrain Loss: 1.884\n",
      "\tTrain Accuracy: 43.18%\n",
      "Epoch: 47 | Time: 0m 8s\n",
      "\tTrain Loss: 1.849\n",
      "\tTrain Accuracy: 43.51%\n",
      "Epoch: 48 | Time: 0m 8s\n",
      "\tTrain Loss: 1.822\n",
      "\tTrain Accuracy: 43.90%\n",
      "Epoch: 49 | Time: 0m 8s\n",
      "\tTrain Loss: 1.789\n",
      "\tTrain Accuracy: 44.35%\n",
      "Epoch: 50 | Time: 0m 8s\n",
      "\tTrain Loss: 1.759\n",
      "\tTrain Accuracy: 44.79%\n",
      "Epoch: 51 | Time: 0m 8s\n",
      "\tTrain Loss: 1.724\n",
      "\tTrain Accuracy: 45.48%\n",
      "Epoch: 52 | Time: 0m 8s\n",
      "\tTrain Loss: 1.697\n",
      "\tTrain Accuracy: 45.53%\n",
      "Epoch: 53 | Time: 0m 8s\n",
      "\tTrain Loss: 1.670\n",
      "\tTrain Accuracy: 46.15%\n",
      "Epoch: 54 | Time: 0m 8s\n",
      "\tTrain Loss: 1.638\n",
      "\tTrain Accuracy: 46.59%\n",
      "Epoch: 55 | Time: 0m 8s\n",
      "\tTrain Loss: 1.605\n",
      "\tTrain Accuracy: 47.10%\n",
      "Epoch: 56 | Time: 0m 8s\n",
      "\tTrain Loss: 1.579\n",
      "\tTrain Accuracy: 47.48%\n",
      "Epoch: 57 | Time: 0m 8s\n",
      "\tTrain Loss: 1.553\n",
      "\tTrain Accuracy: 47.82%\n",
      "Epoch: 58 | Time: 0m 8s\n",
      "\tTrain Loss: 1.526\n",
      "\tTrain Accuracy: 48.27%\n",
      "Epoch: 59 | Time: 0m 8s\n",
      "\tTrain Loss: 1.498\n",
      "\tTrain Accuracy: 48.90%\n",
      "Epoch: 60 | Time: 0m 8s\n",
      "\tTrain Loss: 1.476\n",
      "\tTrain Accuracy: 49.27%\n",
      "Epoch: 61 | Time: 0m 8s\n",
      "\tTrain Loss: 1.448\n",
      "\tTrain Accuracy: 49.59%\n",
      "Epoch: 62 | Time: 0m 8s\n",
      "\tTrain Loss: 1.425\n",
      "\tTrain Accuracy: 49.66%\n",
      "Epoch: 63 | Time: 0m 8s\n",
      "\tTrain Loss: 1.396\n",
      "\tTrain Accuracy: 50.32%\n",
      "Epoch: 64 | Time: 0m 8s\n",
      "\tTrain Loss: 1.373\n",
      "\tTrain Accuracy: 50.47%\n",
      "Epoch: 65 | Time: 0m 8s\n",
      "\tTrain Loss: 1.355\n",
      "\tTrain Accuracy: 50.81%\n",
      "Epoch: 66 | Time: 0m 8s\n",
      "\tTrain Loss: 1.327\n",
      "\tTrain Accuracy: 51.27%\n",
      "Epoch: 67 | Time: 0m 8s\n",
      "\tTrain Loss: 1.302\n",
      "\tTrain Accuracy: 51.60%\n",
      "Epoch: 68 | Time: 0m 8s\n",
      "\tTrain Loss: 1.285\n",
      "\tTrain Accuracy: 51.96%\n",
      "Epoch: 69 | Time: 0m 8s\n",
      "\tTrain Loss: 1.261\n",
      "\tTrain Accuracy: 52.27%\n",
      "Epoch: 70 | Time: 0m 8s\n",
      "\tTrain Loss: 1.235\n",
      "\tTrain Accuracy: 52.64%\n",
      "Epoch: 71 | Time: 0m 8s\n",
      "\tTrain Loss: 1.214\n",
      "\tTrain Accuracy: 52.90%\n",
      "Epoch: 72 | Time: 0m 8s\n",
      "\tTrain Loss: 1.197\n",
      "\tTrain Accuracy: 53.17%\n",
      "Epoch: 73 | Time: 0m 8s\n",
      "\tTrain Loss: 1.173\n",
      "\tTrain Accuracy: 53.51%\n",
      "Epoch: 74 | Time: 0m 8s\n",
      "\tTrain Loss: 1.154\n",
      "\tTrain Accuracy: 53.69%\n",
      "Epoch: 75 | Time: 0m 8s\n",
      "\tTrain Loss: 1.130\n",
      "\tTrain Accuracy: 54.07%\n",
      "Epoch: 76 | Time: 0m 8s\n",
      "\tTrain Loss: 1.111\n",
      "\tTrain Accuracy: 54.45%\n",
      "Epoch: 77 | Time: 0m 8s\n",
      "\tTrain Loss: 1.087\n",
      "\tTrain Accuracy: 55.10%\n",
      "Epoch: 78 | Time: 0m 8s\n",
      "\tTrain Loss: 1.067\n",
      "\tTrain Accuracy: 54.94%\n",
      "Epoch: 79 | Time: 0m 8s\n",
      "\tTrain Loss: 1.050\n",
      "\tTrain Accuracy: 55.25%\n",
      "Epoch: 80 | Time: 0m 8s\n",
      "\tTrain Loss: 1.033\n",
      "\tTrain Accuracy: 55.62%\n",
      "Epoch: 81 | Time: 0m 8s\n",
      "\tTrain Loss: 1.013\n",
      "\tTrain Accuracy: 56.07%\n",
      "Epoch: 82 | Time: 0m 8s\n",
      "\tTrain Loss: 0.993\n",
      "\tTrain Accuracy: 56.24%\n",
      "Epoch: 83 | Time: 0m 8s\n",
      "\tTrain Loss: 0.975\n",
      "\tTrain Accuracy: 56.49%\n",
      "Epoch: 84 | Time: 0m 8s\n",
      "\tTrain Loss: 0.961\n",
      "\tTrain Accuracy: 56.78%\n",
      "Epoch: 85 | Time: 0m 8s\n",
      "\tTrain Loss: 0.937\n",
      "\tTrain Accuracy: 57.03%\n",
      "Epoch: 86 | Time: 0m 8s\n",
      "\tTrain Loss: 0.918\n",
      "\tTrain Accuracy: 57.30%\n",
      "Epoch: 87 | Time: 0m 8s\n",
      "\tTrain Loss: 0.903\n",
      "\tTrain Accuracy: 57.60%\n",
      "Epoch: 88 | Time: 0m 8s\n",
      "\tTrain Loss: 0.890\n",
      "\tTrain Accuracy: 57.75%\n",
      "Epoch: 89 | Time: 0m 8s\n",
      "\tTrain Loss: 0.870\n",
      "\tTrain Accuracy: 58.24%\n",
      "Epoch: 90 | Time: 0m 8s\n",
      "\tTrain Loss: 0.852\n",
      "\tTrain Accuracy: 58.44%\n",
      "Epoch: 91 | Time: 0m 8s\n",
      "\tTrain Loss: 0.839\n",
      "\tTrain Accuracy: 58.72%\n",
      "Epoch: 92 | Time: 0m 8s\n",
      "\tTrain Loss: 0.822\n",
      "\tTrain Accuracy: 58.93%\n",
      "Epoch: 93 | Time: 0m 8s\n",
      "\tTrain Loss: 0.806\n",
      "\tTrain Accuracy: 58.97%\n",
      "Epoch: 94 | Time: 0m 8s\n",
      "\tTrain Loss: 0.785\n",
      "\tTrain Accuracy: 59.25%\n",
      "Epoch: 95 | Time: 0m 8s\n",
      "\tTrain Loss: 0.772\n",
      "\tTrain Accuracy: 59.57%\n",
      "Epoch: 96 | Time: 0m 8s\n",
      "\tTrain Loss: 0.757\n",
      "\tTrain Accuracy: 59.75%\n",
      "Epoch: 97 | Time: 0m 8s\n",
      "\tTrain Loss: 0.745\n",
      "\tTrain Accuracy: 60.08%\n",
      "Epoch: 98 | Time: 0m 8s\n",
      "\tTrain Loss: 0.727\n",
      "\tTrain Accuracy: 60.35%\n",
      "Epoch: 99 | Time: 0m 8s\n",
      "\tTrain Loss: 0.713\n",
      "\tTrain Accuracy: 60.22%\n",
      "Epoch: 100 | Time: 0m 8s\n",
      "\tTrain Loss: 0.700\n",
      "\tTrain Accuracy: 60.75%\n",
      "Epoch: 101 | Time: 0m 8s\n",
      "\tTrain Loss: 0.690\n",
      "\tTrain Accuracy: 60.91%\n",
      "Epoch: 102 | Time: 0m 8s\n",
      "\tTrain Loss: 0.672\n",
      "\tTrain Accuracy: 61.26%\n",
      "Epoch: 103 | Time: 0m 8s\n",
      "\tTrain Loss: 0.661\n",
      "\tTrain Accuracy: 61.36%\n",
      "Epoch: 104 | Time: 0m 8s\n",
      "\tTrain Loss: 0.644\n",
      "\tTrain Accuracy: 61.58%\n",
      "Epoch: 105 | Time: 0m 8s\n",
      "\tTrain Loss: 0.633\n",
      "\tTrain Accuracy: 61.74%\n",
      "Epoch: 106 | Time: 0m 8s\n",
      "\tTrain Loss: 0.624\n",
      "\tTrain Accuracy: 61.93%\n",
      "Epoch: 107 | Time: 0m 8s\n",
      "\tTrain Loss: 0.612\n",
      "\tTrain Accuracy: 62.16%\n",
      "Epoch: 108 | Time: 0m 8s\n",
      "\tTrain Loss: 0.593\n",
      "\tTrain Accuracy: 62.49%\n",
      "Epoch: 109 | Time: 0m 8s\n",
      "\tTrain Loss: 0.582\n",
      "\tTrain Accuracy: 62.68%\n",
      "Epoch: 110 | Time: 0m 8s\n",
      "\tTrain Loss: 0.569\n",
      "\tTrain Accuracy: 62.80%\n",
      "Epoch: 111 | Time: 0m 8s\n",
      "\tTrain Loss: 0.559\n",
      "\tTrain Accuracy: 62.82%\n",
      "Epoch: 112 | Time: 0m 8s\n",
      "\tTrain Loss: 0.547\n",
      "\tTrain Accuracy: 63.15%\n",
      "Epoch: 113 | Time: 0m 8s\n",
      "\tTrain Loss: 0.539\n",
      "\tTrain Accuracy: 63.16%\n",
      "Epoch: 114 | Time: 0m 8s\n",
      "\tTrain Loss: 0.526\n",
      "\tTrain Accuracy: 63.58%\n",
      "Epoch: 115 | Time: 0m 8s\n",
      "\tTrain Loss: 0.515\n",
      "\tTrain Accuracy: 63.56%\n",
      "Epoch: 116 | Time: 0m 8s\n",
      "\tTrain Loss: 0.508\n",
      "\tTrain Accuracy: 63.80%\n",
      "Epoch: 117 | Time: 0m 8s\n",
      "\tTrain Loss: 0.494\n",
      "\tTrain Accuracy: 64.10%\n",
      "Epoch: 118 | Time: 0m 8s\n",
      "\tTrain Loss: 0.487\n",
      "\tTrain Accuracy: 64.26%\n",
      "Epoch: 119 | Time: 0m 8s\n",
      "\tTrain Loss: 0.473\n",
      "\tTrain Accuracy: 64.36%\n",
      "Epoch: 120 | Time: 0m 8s\n",
      "\tTrain Loss: 0.468\n",
      "\tTrain Accuracy: 64.58%\n",
      "Epoch: 121 | Time: 0m 8s\n",
      "\tTrain Loss: 0.458\n",
      "\tTrain Accuracy: 64.68%\n",
      "Epoch: 122 | Time: 0m 8s\n",
      "\tTrain Loss: 0.447\n",
      "\tTrain Accuracy: 64.77%\n",
      "Epoch: 123 | Time: 0m 8s\n",
      "\tTrain Loss: 0.434\n",
      "\tTrain Accuracy: 64.78%\n",
      "Epoch: 124 | Time: 0m 8s\n",
      "\tTrain Loss: 0.425\n",
      "\tTrain Accuracy: 65.03%\n",
      "Epoch: 125 | Time: 0m 8s\n",
      "\tTrain Loss: 0.419\n",
      "\tTrain Accuracy: 65.13%\n",
      "Epoch: 126 | Time: 0m 8s\n",
      "\tTrain Loss: 0.410\n",
      "\tTrain Accuracy: 65.39%\n",
      "Epoch: 127 | Time: 0m 8s\n",
      "\tTrain Loss: 0.400\n",
      "\tTrain Accuracy: 65.49%\n",
      "Epoch: 128 | Time: 0m 8s\n",
      "\tTrain Loss: 0.395\n",
      "\tTrain Accuracy: 65.37%\n",
      "Epoch: 129 | Time: 0m 8s\n",
      "\tTrain Loss: 0.385\n",
      "\tTrain Accuracy: 65.69%\n",
      "Epoch: 130 | Time: 0m 8s\n",
      "\tTrain Loss: 0.380\n",
      "\tTrain Accuracy: 65.62%\n",
      "Epoch: 131 | Time: 0m 8s\n",
      "\tTrain Loss: 0.373\n",
      "\tTrain Accuracy: 65.92%\n",
      "Epoch: 132 | Time: 0m 8s\n",
      "\tTrain Loss: 0.363\n",
      "\tTrain Accuracy: 66.15%\n",
      "Epoch: 133 | Time: 0m 8s\n",
      "\tTrain Loss: 0.359\n",
      "\tTrain Accuracy: 66.13%\n",
      "Epoch: 134 | Time: 0m 8s\n",
      "\tTrain Loss: 0.345\n",
      "\tTrain Accuracy: 66.43%\n",
      "Epoch: 135 | Time: 0m 8s\n",
      "\tTrain Loss: 0.340\n",
      "\tTrain Accuracy: 66.40%\n",
      "Epoch: 136 | Time: 0m 8s\n",
      "\tTrain Loss: 0.336\n",
      "\tTrain Accuracy: 66.34%\n",
      "Epoch: 137 | Time: 0m 8s\n",
      "\tTrain Loss: 0.329\n",
      "\tTrain Accuracy: 66.81%\n",
      "Epoch: 138 | Time: 0m 8s\n",
      "\tTrain Loss: 0.317\n",
      "\tTrain Accuracy: 66.82%\n",
      "Epoch: 139 | Time: 0m 8s\n",
      "\tTrain Loss: 0.316\n",
      "\tTrain Accuracy: 66.78%\n",
      "Epoch: 140 | Time: 0m 8s\n",
      "\tTrain Loss: 0.306\n",
      "\tTrain Accuracy: 66.94%\n",
      "Epoch: 141 | Time: 0m 8s\n",
      "\tTrain Loss: 0.299\n",
      "\tTrain Accuracy: 67.17%\n",
      "Epoch: 142 | Time: 0m 8s\n",
      "\tTrain Loss: 0.294\n",
      "\tTrain Accuracy: 67.19%\n",
      "Epoch: 143 | Time: 0m 8s\n",
      "\tTrain Loss: 0.286\n",
      "\tTrain Accuracy: 67.18%\n",
      "Epoch: 144 | Time: 0m 8s\n",
      "\tTrain Loss: 0.284\n",
      "\tTrain Accuracy: 67.18%\n",
      "Epoch: 145 | Time: 0m 8s\n",
      "\tTrain Loss: 0.277\n",
      "\tTrain Accuracy: 67.32%\n",
      "Epoch: 146 | Time: 0m 8s\n",
      "\tTrain Loss: 0.273\n",
      "\tTrain Accuracy: 67.66%\n",
      "Epoch: 147 | Time: 0m 8s\n",
      "\tTrain Loss: 0.265\n",
      "\tTrain Accuracy: 67.73%\n",
      "Epoch: 148 | Time: 0m 8s\n",
      "\tTrain Loss: 0.261\n",
      "\tTrain Accuracy: 67.51%\n",
      "Epoch: 149 | Time: 0m 8s\n",
      "\tTrain Loss: 0.256\n",
      "\tTrain Accuracy: 67.80%\n",
      "Epoch: 150 | Time: 0m 8s\n",
      "\tTrain Loss: 0.258\n",
      "\tTrain Accuracy: 67.77%\n",
      "Epoch: 151 | Time: 0m 8s\n",
      "\tTrain Loss: 0.242\n",
      "\tTrain Accuracy: 67.92%\n",
      "Epoch: 152 | Time: 0m 8s\n",
      "\tTrain Loss: 0.239\n",
      "\tTrain Accuracy: 68.16%\n",
      "Epoch: 153 | Time: 0m 8s\n",
      "\tTrain Loss: 0.236\n",
      "\tTrain Accuracy: 68.22%\n",
      "Epoch: 154 | Time: 0m 8s\n",
      "\tTrain Loss: 0.232\n",
      "\tTrain Accuracy: 67.91%\n",
      "Epoch: 155 | Time: 0m 8s\n",
      "\tTrain Loss: 0.224\n",
      "\tTrain Accuracy: 68.10%\n",
      "Epoch: 156 | Time: 0m 8s\n",
      "\tTrain Loss: 0.219\n",
      "\tTrain Accuracy: 68.39%\n",
      "Epoch: 157 | Time: 0m 8s\n",
      "\tTrain Loss: 0.215\n",
      "\tTrain Accuracy: 68.37%\n",
      "Epoch: 158 | Time: 0m 8s\n",
      "\tTrain Loss: 0.210\n",
      "\tTrain Accuracy: 68.54%\n",
      "Epoch: 159 | Time: 0m 8s\n",
      "\tTrain Loss: 0.207\n",
      "\tTrain Accuracy: 68.50%\n",
      "Epoch: 160 | Time: 0m 8s\n",
      "\tTrain Loss: 0.204\n",
      "\tTrain Accuracy: 68.46%\n",
      "Epoch: 161 | Time: 0m 8s\n",
      "\tTrain Loss: 0.199\n",
      "\tTrain Accuracy: 68.63%\n",
      "Epoch: 162 | Time: 0m 8s\n",
      "\tTrain Loss: 0.197\n",
      "\tTrain Accuracy: 68.71%\n",
      "Epoch: 163 | Time: 0m 8s\n",
      "\tTrain Loss: 0.189\n",
      "\tTrain Accuracy: 68.77%\n",
      "Epoch: 164 | Time: 0m 8s\n",
      "\tTrain Loss: 0.188\n",
      "\tTrain Accuracy: 68.83%\n",
      "Epoch: 165 | Time: 0m 8s\n",
      "\tTrain Loss: 0.182\n",
      "\tTrain Accuracy: 68.96%\n",
      "Epoch: 166 | Time: 0m 8s\n",
      "\tTrain Loss: 0.180\n",
      "\tTrain Accuracy: 68.72%\n",
      "Epoch: 167 | Time: 0m 8s\n",
      "\tTrain Loss: 0.178\n",
      "\tTrain Accuracy: 69.04%\n",
      "Epoch: 168 | Time: 0m 8s\n",
      "\tTrain Loss: 0.174\n",
      "\tTrain Accuracy: 69.02%\n",
      "Epoch: 169 | Time: 0m 8s\n",
      "\tTrain Loss: 0.169\n",
      "\tTrain Accuracy: 69.19%\n",
      "Epoch: 170 | Time: 0m 8s\n",
      "\tTrain Loss: 0.166\n",
      "\tTrain Accuracy: 69.23%\n",
      "Epoch: 171 | Time: 0m 8s\n",
      "\tTrain Loss: 0.164\n",
      "\tTrain Accuracy: 69.14%\n",
      "Epoch: 172 | Time: 0m 8s\n",
      "\tTrain Loss: 0.162\n",
      "\tTrain Accuracy: 69.37%\n",
      "Epoch: 173 | Time: 0m 8s\n",
      "\tTrain Loss: 0.157\n",
      "\tTrain Accuracy: 69.29%\n",
      "Epoch: 174 | Time: 0m 8s\n",
      "\tTrain Loss: 0.153\n",
      "\tTrain Accuracy: 69.37%\n",
      "Epoch: 175 | Time: 0m 8s\n",
      "\tTrain Loss: 0.150\n",
      "\tTrain Accuracy: 69.46%\n",
      "Epoch: 176 | Time: 0m 8s\n",
      "\tTrain Loss: 0.147\n",
      "\tTrain Accuracy: 69.42%\n",
      "Epoch: 177 | Time: 0m 8s\n",
      "\tTrain Loss: 0.146\n",
      "\tTrain Accuracy: 69.46%\n",
      "Epoch: 178 | Time: 0m 8s\n",
      "\tTrain Loss: 0.142\n",
      "\tTrain Accuracy: 69.37%\n",
      "Epoch: 179 | Time: 0m 8s\n",
      "\tTrain Loss: 0.139\n",
      "\tTrain Accuracy: 69.73%\n",
      "Epoch: 180 | Time: 0m 8s\n",
      "\tTrain Loss: 0.140\n",
      "\tTrain Accuracy: 69.35%\n",
      "Epoch: 181 | Time: 0m 8s\n",
      "\tTrain Loss: 0.133\n",
      "\tTrain Accuracy: 69.50%\n",
      "Epoch: 182 | Time: 0m 8s\n",
      "\tTrain Loss: 0.134\n",
      "\tTrain Accuracy: 69.65%\n",
      "Epoch: 183 | Time: 0m 8s\n",
      "\tTrain Loss: 0.130\n",
      "\tTrain Accuracy: 69.72%\n",
      "Epoch: 184 | Time: 0m 8s\n",
      "\tTrain Loss: 0.134\n",
      "\tTrain Accuracy: 69.71%\n",
      "Epoch: 185 | Time: 0m 8s\n",
      "\tTrain Loss: 0.126\n",
      "\tTrain Accuracy: 69.73%\n",
      "Epoch: 186 | Time: 0m 8s\n",
      "\tTrain Loss: 0.124\n",
      "\tTrain Accuracy: 69.82%\n",
      "Epoch: 187 | Time: 0m 8s\n",
      "\tTrain Loss: 0.119\n",
      "\tTrain Accuracy: 69.80%\n",
      "Epoch: 188 | Time: 0m 8s\n",
      "\tTrain Loss: 0.116\n",
      "\tTrain Accuracy: 69.93%\n",
      "Epoch: 189 | Time: 0m 8s\n",
      "\tTrain Loss: 0.115\n",
      "\tTrain Accuracy: 69.81%\n",
      "Epoch: 190 | Time: 0m 8s\n",
      "\tTrain Loss: 0.116\n",
      "\tTrain Accuracy: 69.96%\n",
      "Epoch: 191 | Time: 0m 8s\n",
      "\tTrain Loss: 0.111\n",
      "\tTrain Accuracy: 70.09%\n",
      "Epoch: 192 | Time: 0m 8s\n",
      "\tTrain Loss: 0.111\n",
      "\tTrain Accuracy: 70.17%\n",
      "Epoch: 193 | Time: 0m 8s\n",
      "\tTrain Loss: 0.108\n",
      "\tTrain Accuracy: 70.13%\n",
      "Epoch: 194 | Time: 0m 8s\n",
      "\tTrain Loss: 0.108\n",
      "\tTrain Accuracy: 69.99%\n",
      "Epoch: 195 | Time: 0m 8s\n",
      "\tTrain Loss: 0.106\n",
      "\tTrain Accuracy: 69.88%\n",
      "Epoch: 196 | Time: 0m 8s\n",
      "\tTrain Loss: 0.105\n",
      "\tTrain Accuracy: 69.94%\n",
      "Epoch: 197 | Time: 0m 8s\n",
      "\tTrain Loss: 0.100\n",
      "\tTrain Accuracy: 70.18%\n",
      "Epoch: 198 | Time: 0m 8s\n",
      "\tTrain Loss: 0.103\n",
      "\tTrain Accuracy: 70.14%\n",
      "Epoch: 199 | Time: 0m 8s\n",
      "\tTrain Loss: 0.096\n",
      "\tTrain Accuracy: 70.26%\n",
      "Epoch: 200 | Time: 0m 8s\n",
      "\tTrain Loss: 0.093\n",
      "\tTrain Accuracy: 70.59%\n"
     ]
    }
   ],
   "source": [
    "N_EPOCHS = 200\n",
    "CLIP = 1\n",
    "\n",
    "best_valid_loss = float('inf')\n",
    "\n",
    "train_loss_epochs = np.zeros(N_EPOCHS)\n",
    "train_accuracy_epochs = np.zeros(N_EPOCHS)\n",
    "\n",
    "for epoch in range(N_EPOCHS):\n",
    "    \n",
    "    start_time = time.time()\n",
    "    \n",
    "    train(model, train_dataloader, optimizer, criterion, CLIP)\n",
    "\n",
    "    train_loss, train_accuracy = evaluate(model, train_dataloader, criterion)\n",
    "    \n",
    "    end_time = time.time()\n",
    "    \n",
    "    epoch_mins, epoch_secs = epoch_time(start_time, end_time)\n",
    "\n",
    "    train_loss_epochs[epoch] = train_loss\n",
    "    train_accuracy_epochs[epoch] = train_accuracy\n",
    "\n",
    "    \n",
    "    print(f'Epoch: {epoch+1:02} | Time: {epoch_mins}m {epoch_secs}s')\n",
    "    print(f'\\tTrain Loss: {train_loss:.3f}')\n",
    "    print(f'\\tTrain Accuracy: {100 * train_accuracy:.2f}%')"
   ]
  },
  {
   "cell_type": "markdown",
   "id": "Ad1Rxv5DODZy",
   "metadata": {
    "id": "Ad1Rxv5DODZy"
   },
   "source": [
    "### Loss & Accuracy Diagrams"
   ]
  },
  {
   "cell_type": "code",
   "execution_count": 23,
   "id": "ZHsfyG48ORil",
   "metadata": {
    "colab": {
     "base_uri": "https://localhost:8080/",
     "height": 295
    },
    "id": "ZHsfyG48ORil",
    "outputId": "7611a54d-80ca-42f0-ec7f-11c6a81b760c"
   },
   "outputs": [
    {
     "data": {
      "image/png": "[encoded data removed]",
      "text/plain": [
       "<Figure size 640x480 with 1 Axes>"
      ]
     },
     "metadata": {},
     "output_type": "display_data"
    }
   ],
   "source": [
    "xpoints = np.arange(1, N_EPOCHS+1)\n",
    "ypoints = train_loss_epochs\n",
    "\n",
    "plt.plot(xpoints, ypoints)\n",
    "\n",
    "plt.title(\"Train Loss Diagram\")\n",
    "plt.xlabel(\"# Epoch\")\n",
    "plt.ylabel(\"Cross-Entropy Loss\")\n",
    "\n",
    "plt.show()"
   ]
  },
  {
   "cell_type": "code",
   "execution_count": 24,
   "id": "HTMrk0VzSW_s",
   "metadata": {
    "colab": {
     "base_uri": "https://localhost:8080/",
     "height": 295
    },
    "id": "HTMrk0VzSW_s",
    "outputId": "a6bbff52-084a-4704-ecfd-18d304308f19"
   },
   "outputs": [
    {
     "data": {
      "image/png": "[encoded data removed]",
      "text/plain": [
       "<Figure size 640x480 with 1 Axes>"
      ]
     },
     "metadata": {},
     "output_type": "display_data"
    }
   ],
   "source": [
    "xpoints = np.arange(1, N_EPOCHS+1)\n",
    "ypoints = train_accuracy_epochs\n",
    "\n",
    "plt.plot(xpoints, ypoints)\n",
    "\n",
    "plt.title(\"Train Accuracy Diagram\")\n",
    "plt.xlabel(\"# Epoch\")\n",
    "plt.ylabel(\"Accuracy\")\n",
    "\n",
    "plt.show()"
   ]
  },
  {
   "cell_type": "markdown",
   "id": "iirbNqWbQ5uU",
   "metadata": {
    "id": "iirbNqWbQ5uU"
   },
   "source": [
    "### Model Testing"
   ]
  },
  {
   "cell_type": "code",
   "execution_count": 25,
   "id": "zXXaWRObQ4aa",
   "metadata": {
    "colab": {
     "base_uri": "https://localhost:8080/"
    },
    "id": "zXXaWRObQ4aa",
    "outputId": "a5adbc1b-541e-46c4-d5bb-73c9e7859319"
   },
   "outputs": [
    {
     "name": "stdout",
     "output_type": "stream",
     "text": [
      "| Test Loss: 8.222\n",
      "| Test Accuracy: 17.75%\n"
     ]
    }
   ],
   "source": [
    "test_loss, test_accuracy = evaluate(model, test_dataloader, criterion)\n",
    "\n",
    "print(f'| Test Loss: {test_loss:.3f}')\n",
    "print(f'| Test Accuracy: {100 * test_accuracy:.2f}%')"
   ]
  },
  {
   "cell_type": "code",
   "execution_count": 26,
   "id": "b2HtVpd-0PDn",
   "metadata": {
    "colab": {
     "base_uri": "https://localhost:8080/"
    },
    "id": "b2HtVpd-0PDn",
    "outputId": "bebd798c-c90d-4f07-e825-a65099657739"
   },
   "outputs": [
    {
     "name": "stdout",
     "output_type": "stream",
     "text": [
      "Current Beyt: پر از مهر شاهست ما را روان / به زیر اندرون تازی اسپان دمان\n",
      "Next: همه پیش فرزند تو بنده ایم / بزرگی وی را ستاینده ایم\n"
     ]
    }
   ],
   "source": [
    "random_index = random.randint(0, len(test_dataset))\n",
    "\n",
    "print(f\"Current Beyt: {test_dataset.data.loc[random_index,'Input']}\")\n",
    "print(f\"Next: {test_dataset.data.loc[random_index,'Output']}\")"
   ]
  },
  {
   "cell_type": "code",
   "execution_count": 27,
   "id": "ySHUQlFb1T1T",
   "metadata": {
    "colab": {
     "base_uri": "https://localhost:8080/"
    },
    "id": "ySHUQlFb1T1T",
    "outputId": "83611529-307f-47c5-d53e-a1f592549a01"
   },
   "outputs": [
    {
     "name": "stdout",
     "output_type": "stream",
     "text": [
      "Predicted Next Beyt:\n",
      "چو\n",
      "شب\n",
      "تیره\n",
      "شد\n",
      "پهلو\n",
      "پیش\n",
      "بین\n",
      "/\n",
      "برآراست\n",
      "باشاه\n",
      "ایران\n",
      "زمین\n",
      "<EOS>\n"
     ]
    }
   ],
   "source": [
    "dic = test_dataset[random_index]\n",
    "input = dic['Input']\n",
    "output = dic['Output']\n",
    "\n",
    "model.eval()\n",
    "\n",
    "with torch.no_grad():\n",
    "  src = input.to(device)\n",
    "  src = torch.reshape(src, (len(src), 1))\n",
    "\n",
    "  trg = output.to(device)\n",
    "  trg = torch.reshape(trg, (len(trg), 1))\n",
    "\n",
    "  output = model(src, trg, 0) #turn off teacher forcing\n",
    "\n",
    "  output_dim = output.shape[-1]\n",
    "\n",
    "  output = output[1:].view(-1, output_dim)\n",
    "  trg = trg[1:].view(-1)\n",
    "\n",
    "  output = (output.argmax(dim=1))\n",
    "\n",
    "print(f'Predicted Next Beyt:')\n",
    "\n",
    "for i in range(len(output)):\n",
    "  print(train_dataset.vocab.itos[output[i].item()])"
   ]
  },
  {
   "cell_type": "markdown",
   "id": "cFu2VRXu71CX",
   "metadata": {
    "id": "cFu2VRXu71CX"
   },
   "source": [
    "# **Part (B) - Bidirectional GRU**"
   ]
  },
  {
   "cell_type": "markdown",
   "id": "uiuJpCpSJq42",
   "metadata": {
    "id": "uiuJpCpSJq42"
   },
   "source": [
    "### Encoder"
   ]
  },
  {
   "cell_type": "code",
   "execution_count": 28,
   "id": "Lt6zfWyjJsvS",
   "metadata": {
    "id": "Lt6zfWyjJsvS"
   },
   "outputs": [],
   "source": [
    "class Encoder(nn.Module):\n",
    "    def __init__(self, input_dim, emb_dim, enc_hid_dim, dec_hid_dim, dropout):\n",
    "        super().__init__()\n",
    "        \n",
    "        self.embedding = nn.Embedding(input_dim, emb_dim)\n",
    "        \n",
    "        self.rnn = nn.GRU(emb_dim, enc_hid_dim, bidirectional = True)\n",
    "        \n",
    "        self.fc = nn.Linear(enc_hid_dim * 2, dec_hid_dim)\n",
    "        \n",
    "        self.dropout = nn.Dropout(dropout)\n",
    "        \n",
    "    def forward(self, src):\n",
    "        \n",
    "        #src = [src len, batch size]\n",
    "        \n",
    "        embedded = self.dropout(self.embedding(src))\n",
    "        \n",
    "        #embedded = [src len, batch size, emb dim]\n",
    "        \n",
    "        outputs, hidden = self.rnn(embedded)\n",
    "                \n",
    "        #outputs = [src len, batch size, hid dim * num directions]\n",
    "        #hidden = [n layers * num directions, batch size, hid dim]\n",
    "        \n",
    "        #hidden is stacked [forward_1, backward_1, forward_2, backward_2, ...]\n",
    "        #outputs are always from the last layer\n",
    "        \n",
    "        #hidden [-2, :, : ] is the last of the forwards RNN \n",
    "        #hidden [-1, :, : ] is the last of the backwards RNN\n",
    "        \n",
    "        #initial decoder hidden is final hidden state of the forwards and backwards \n",
    "        #  encoder RNNs fed through a linear layer\n",
    "        hidden = torch.tanh(self.fc(torch.cat((hidden[-2,:,:], hidden[-1,:,:]), dim = 1)))\n",
    "        \n",
    "        #outputs = [src len, batch size, enc hid dim * 2]\n",
    "        #hidden = [batch size, dec hid dim]\n",
    "        \n",
    "        return outputs, hidden"
   ]
  },
  {
   "cell_type": "markdown",
   "id": "vpcbOWD7OUIF",
   "metadata": {
    "id": "vpcbOWD7OUIF"
   },
   "source": [
    "### Attention\n",
    "\n",
    "Based on the paper [2] it is usefulful to add an attention layer. This will take in the previous hidden state of the decoder, and all of the stacked forward and backward hidden states from the encoder.\n",
    "\n",
    "Intuitively, this layer takes what we have decoded so far, and all of what we have encoded, to produce a vector, that represents which words in the source sentence we should pay the most attention to in order to correctly predict the next word to decode."
   ]
  },
  {
   "cell_type": "code",
   "execution_count": 29,
   "id": "CAjHeXB5OWV4",
   "metadata": {
    "id": "CAjHeXB5OWV4"
   },
   "outputs": [],
   "source": [
    "class Attention(nn.Module):\n",
    "    def __init__(self, enc_hid_dim, dec_hid_dim):\n",
    "        super().__init__()\n",
    "        \n",
    "        self.attn = nn.Linear((enc_hid_dim * 2) + dec_hid_dim, dec_hid_dim)\n",
    "        self.v = nn.Linear(dec_hid_dim, 1, bias = False)\n",
    "        \n",
    "    def forward(self, hidden, encoder_outputs):\n",
    "        \n",
    "        #hidden = [batch size, dec hid dim]\n",
    "        #encoder_outputs = [src len, batch size, enc hid dim * 2]\n",
    "        \n",
    "        batch_size = encoder_outputs.shape[1]\n",
    "        src_len = encoder_outputs.shape[0]\n",
    "        \n",
    "        #repeat decoder hidden state src_len times\n",
    "        hidden = hidden.unsqueeze(1).repeat(1, src_len, 1)\n",
    "        \n",
    "        encoder_outputs = encoder_outputs.permute(1, 0, 2)\n",
    "        \n",
    "        #hidden = [batch size, src len, dec hid dim]\n",
    "        #encoder_outputs = [batch size, src len, enc hid dim * 2]\n",
    "        \n",
    "        energy = torch.tanh(self.attn(torch.cat((hidden, encoder_outputs), dim = 2))) \n",
    "        \n",
    "        #energy = [batch size, src len, dec hid dim]\n",
    "\n",
    "        attention = self.v(energy).squeeze(2)\n",
    "        \n",
    "        #attention= [batch size, src len]\n",
    "        \n",
    "        return F.softmax(attention, dim=1)"
   ]
  },
  {
   "cell_type": "markdown",
   "id": "96JHfQEnKMeV",
   "metadata": {
    "id": "96JHfQEnKMeV"
   },
   "source": [
    "### Decoder"
   ]
  },
  {
   "cell_type": "code",
   "execution_count": 30,
   "id": "OSIz_gYGKPc6",
   "metadata": {
    "id": "OSIz_gYGKPc6"
   },
   "outputs": [],
   "source": [
    "class Decoder(nn.Module):\n",
    "    def __init__(self, output_dim, emb_dim, enc_hid_dim, dec_hid_dim, dropout, attention):\n",
    "        super().__init__()\n",
    "\n",
    "        self.output_dim = output_dim\n",
    "        self.attention = attention\n",
    "        \n",
    "        self.embedding = nn.Embedding(output_dim, emb_dim)\n",
    "        \n",
    "        self.rnn = nn.GRU((enc_hid_dim * 2) + emb_dim, dec_hid_dim)\n",
    "        \n",
    "        self.fc_out = nn.Linear((enc_hid_dim * 2) + dec_hid_dim + emb_dim, output_dim)\n",
    "        \n",
    "        self.dropout = nn.Dropout(dropout)\n",
    "        \n",
    "    def forward(self, input, hidden, encoder_outputs):\n",
    "             \n",
    "        #input = [batch size]\n",
    "        #hidden = [batch size, dec hid dim]\n",
    "        #encoder_outputs = [src len, batch size, enc hid dim * 2]\n",
    "        \n",
    "        input = input.unsqueeze(0)\n",
    "        \n",
    "        #input = [1, batch size]\n",
    "        \n",
    "        embedded = self.dropout(self.embedding(input))\n",
    "        \n",
    "        #embedded = [1, batch size, emb dim]\n",
    "        \n",
    "        a = self.attention(hidden, encoder_outputs)\n",
    "                \n",
    "        #a = [batch size, src len]\n",
    "        \n",
    "        a = a.unsqueeze(1)\n",
    "        \n",
    "        #a = [batch size, 1, src len]\n",
    "        \n",
    "        encoder_outputs = encoder_outputs.permute(1, 0, 2)\n",
    "        \n",
    "        #encoder_outputs = [batch size, src len, enc hid dim * 2]\n",
    "        \n",
    "        weighted = torch.bmm(a, encoder_outputs)\n",
    "        \n",
    "        #weighted = [batch size, 1, enc hid dim * 2]\n",
    "        \n",
    "        weighted = weighted.permute(1, 0, 2)\n",
    "        \n",
    "        #weighted = [1, batch size, enc hid dim * 2]\n",
    "        \n",
    "        rnn_input = torch.cat((embedded, weighted), dim = 2)\n",
    "        \n",
    "        #rnn_input = [1, batch size, (enc hid dim * 2) + emb dim]\n",
    "            \n",
    "        output, hidden = self.rnn(rnn_input, hidden.unsqueeze(0))\n",
    "        \n",
    "        #output = [seq len, batch size, dec hid dim * n directions]\n",
    "        #hidden = [n layers * n directions, batch size, dec hid dim]\n",
    "        \n",
    "        #seq len, n layers and n directions will always be 1 in this decoder, therefore:\n",
    "        #output = [1, batch size, dec hid dim]\n",
    "        #hidden = [1, batch size, dec hid dim]\n",
    "        #this also means that output == hidden\n",
    "        assert (output == hidden).all()\n",
    "        \n",
    "        embedded = embedded.squeeze(0)\n",
    "        output = output.squeeze(0)\n",
    "        weighted = weighted.squeeze(0)\n",
    "        \n",
    "        prediction = self.fc_out(torch.cat((output, weighted, embedded), dim = 1))\n",
    "        \n",
    "        #prediction = [batch size, output dim]\n",
    "        \n",
    "        return prediction, hidden.squeeze(0)"
   ]
  },
  {
   "cell_type": "markdown",
   "id": "bZxgm4EfKf9F",
   "metadata": {
    "id": "bZxgm4EfKf9F"
   },
   "source": [
    "### Seq2Seq"
   ]
  },
  {
   "cell_type": "code",
   "execution_count": 31,
   "id": "iF6zeJfIKlea",
   "metadata": {
    "id": "iF6zeJfIKlea"
   },
   "outputs": [],
   "source": [
    "class Seq2Seq(nn.Module):\n",
    "    def __init__(self, encoder, decoder, device):\n",
    "        super().__init__()\n",
    "        \n",
    "        self.encoder = encoder\n",
    "        self.decoder = decoder\n",
    "        self.device = device\n",
    "        \n",
    "    def forward(self, src, trg, teacher_forcing_ratio = 0.5):\n",
    "        \n",
    "        #src = [src len, batch size]\n",
    "        #trg = [trg len, batch size]\n",
    "        #teacher_forcing_ratio is probability to use teacher forcing\n",
    "        #e.g. if teacher_forcing_ratio is 0.75 we use teacher forcing 75% of the time\n",
    "        \n",
    "        batch_size = src.shape[1]\n",
    "        trg_len = trg.shape[0]\n",
    "        trg_vocab_size = self.decoder.output_dim\n",
    "        \n",
    "        #tensor to store decoder outputs\n",
    "        outputs = torch.zeros(trg_len, batch_size, trg_vocab_size).to(self.device)\n",
    "        \n",
    "        #encoder_outputs is all hidden states of the input sequence, back and forwards\n",
    "        #hidden is the final forward and backward hidden states, passed through a linear layer\n",
    "        encoder_outputs, hidden = self.encoder(src)\n",
    "                \n",
    "        #first input to the decoder is the <sos> tokens\n",
    "        input = trg[0,:]\n",
    "        \n",
    "        for t in range(1, trg_len):\n",
    "            \n",
    "            #insert input token embedding, previous hidden state and all encoder hidden states\n",
    "            #receive output tensor (predictions) and new hidden state\n",
    "            output, hidden = self.decoder(input, hidden, encoder_outputs)\n",
    "            \n",
    "            #place predictions in a tensor holding predictions for each token\n",
    "            outputs[t] = output\n",
    "            \n",
    "            #decide if we are going to use teacher forcing or not\n",
    "            teacher_force = random.random() < teacher_forcing_ratio\n",
    "            \n",
    "            #get the highest predicted token from our predictions\n",
    "            top1 = output.argmax(1) \n",
    "            \n",
    "            #if teacher forcing, use actual next token as next input\n",
    "            #if not, use predicted token\n",
    "            input = trg[t] if teacher_force else top1\n",
    "\n",
    "        return outputs"
   ]
  },
  {
   "cell_type": "markdown",
   "id": "4pbjWikZKytF",
   "metadata": {
    "id": "4pbjWikZKytF"
   },
   "source": [
    "### Training the Seq2Seq Model"
   ]
  },
  {
   "cell_type": "code",
   "execution_count": 32,
   "id": "dCZ13WziK0be",
   "metadata": {
    "id": "dCZ13WziK0be"
   },
   "outputs": [],
   "source": [
    "TRG_PAD_IDX = train_dataset.PAD_IDX\n",
    "\n",
    "INPUT_DIM = dictionary_size\n",
    "OUTPUT_DIM = dictionary_size\n",
    "ENC_EMB_DIM = 256\n",
    "DEC_EMB_DIM = 256\n",
    "ENC_HID_DIM = 512\n",
    "DEC_HID_DIM = 512\n",
    "ENC_DROPOUT = 0.5\n",
    "DEC_DROPOUT = 0.5\n",
    "\n",
    "attn = Attention(ENC_HID_DIM, DEC_HID_DIM)\n",
    "enc = Encoder(INPUT_DIM, ENC_EMB_DIM, ENC_HID_DIM, DEC_HID_DIM, ENC_DROPOUT)\n",
    "dec = Decoder(OUTPUT_DIM, DEC_EMB_DIM, ENC_HID_DIM, DEC_HID_DIM, DEC_DROPOUT, attn)\n",
    "\n",
    "model = Seq2Seq(enc, dec, device).to(device)\n",
    "\n",
    "optimizer = optim.Adam(model.parameters())\n",
    "criterion = nn.CrossEntropyLoss(ignore_index = TRG_PAD_IDX)"
   ]
  },
  {
   "cell_type": "code",
   "execution_count": 33,
   "id": "3e1f26b2",
   "metadata": {},
   "outputs": [
    {
     "data": {
      "text/plain": [
       "Seq2Seq(\n",
       "  (encoder): Encoder(\n",
       "    (embedding): Embedding(9171, 256)\n",
       "    (rnn): GRU(256, 512, bidirectional=True)\n",
       "    (fc): Linear(in_features=1024, out_features=512, bias=True)\n",
       "    (dropout): Dropout(p=0.5, inplace=False)\n",
       "  )\n",
       "  (decoder): Decoder(\n",
       "    (attention): Attention(\n",
       "      (attn): Linear(in_features=1536, out_features=512, bias=True)\n",
       "      (v): Linear(in_features=512, out_features=1, bias=False)\n",
       "    )\n",
       "    (embedding): Embedding(9171, 256)\n",
       "    (rnn): GRU(1280, 512)\n",
       "    (fc_out): Linear(in_features=1792, out_features=9171, bias=True)\n",
       "    (dropout): Dropout(p=0.5, inplace=False)\n",
       "  )\n",
       ")"
      ]
     },
     "execution_count": 33,
     "metadata": {},
     "output_type": "execute_result"
    }
   ],
   "source": [
    "# Weight initialization scheme suggested in the paper\n",
    "def init_weights(m):\n",
    "    for name, param in m.named_parameters():\n",
    "        if 'weight' in name:\n",
    "            nn.init.normal_(param.data, mean=0, std=0.01)\n",
    "        else:\n",
    "            nn.init.constant_(param.data, 0)\n",
    "            \n",
    "model.apply(init_weights)"
   ]
  },
  {
   "cell_type": "markdown",
   "id": "p4nxri0wQ8rI",
   "metadata": {
    "id": "p4nxri0wQ8rI"
   },
   "source": [
    "### Number of parameters"
   ]
  },
  {
   "cell_type": "code",
   "execution_count": 34,
   "id": "1TqdKCSpQ_cm",
   "metadata": {
    "colab": {
     "base_uri": "https://localhost:8080/"
    },
    "id": "1TqdKCSpQ_cm",
    "outputId": "4d07b4d2-9170-44d6-9b0f-811efb7b4e61"
   },
   "outputs": [
    {
     "name": "stdout",
     "output_type": "stream",
     "text": [
      "The model has 27,572,435 trainable parameters\n"
     ]
    }
   ],
   "source": [
    "print(f'The model has {sum(p.numel() for p in model.parameters() if p.requires_grad):,} trainable parameters')"
   ]
  },
  {
   "cell_type": "markdown",
   "id": "JeGSGDDuLMg5",
   "metadata": {
    "id": "JeGSGDDuLMg5"
   },
   "source": [
    "### Model Training"
   ]
  },
  {
   "cell_type": "code",
   "execution_count": 35,
   "id": "9nvtdaHFLOLa",
   "metadata": {
    "colab": {
     "base_uri": "https://localhost:8080/"
    },
    "id": "9nvtdaHFLOLa",
    "outputId": "da05db83-55e2-474a-c0b6-bd0cb467a14c"
   },
   "outputs": [
    {
     "name": "stdout",
     "output_type": "stream",
     "text": [
      "Epoch: 01 | Time: 0m 13s\n",
      "\tTrain Loss: 5.528\n",
      "\tTrain Accuracy: 14.97%\n",
      "Epoch: 02 | Time: 0m 13s\n",
      "\tTrain Loss: 5.026\n",
      "\tTrain Accuracy: 16.75%\n",
      "Epoch: 03 | Time: 0m 13s\n",
      "\tTrain Loss: 4.692\n",
      "\tTrain Accuracy: 17.88%\n",
      "Epoch: 04 | Time: 0m 13s\n",
      "\tTrain Loss: 4.347\n",
      "\tTrain Accuracy: 19.41%\n",
      "Epoch: 05 | Time: 0m 13s\n",
      "\tTrain Loss: 4.025\n",
      "\tTrain Accuracy: 20.89%\n",
      "Epoch: 06 | Time: 0m 13s\n",
      "\tTrain Loss: 3.729\n",
      "\tTrain Accuracy: 22.63%\n",
      "Epoch: 07 | Time: 0m 13s\n",
      "\tTrain Loss: 3.455\n",
      "\tTrain Accuracy: 24.55%\n",
      "Epoch: 08 | Time: 0m 13s\n",
      "\tTrain Loss: 3.190\n",
      "\tTrain Accuracy: 26.79%\n",
      "Epoch: 09 | Time: 0m 13s\n",
      "\tTrain Loss: 2.944\n",
      "\tTrain Accuracy: 29.46%\n",
      "Epoch: 10 | Time: 0m 13s\n",
      "\tTrain Loss: 2.697\n",
      "\tTrain Accuracy: 32.10%\n",
      "Epoch: 11 | Time: 0m 13s\n",
      "\tTrain Loss: 2.456\n",
      "\tTrain Accuracy: 35.06%\n",
      "Epoch: 12 | Time: 0m 13s\n",
      "\tTrain Loss: 2.214\n",
      "\tTrain Accuracy: 37.92%\n",
      "Epoch: 13 | Time: 0m 13s\n",
      "\tTrain Loss: 1.976\n",
      "\tTrain Accuracy: 41.03%\n",
      "Epoch: 14 | Time: 0m 13s\n",
      "\tTrain Loss: 1.739\n",
      "\tTrain Accuracy: 44.10%\n",
      "Epoch: 15 | Time: 0m 13s\n",
      "\tTrain Loss: 1.510\n",
      "\tTrain Accuracy: 47.69%\n",
      "Epoch: 16 | Time: 0m 13s\n",
      "\tTrain Loss: 1.294\n",
      "\tTrain Accuracy: 50.92%\n",
      "Epoch: 17 | Time: 0m 13s\n",
      "\tTrain Loss: 1.097\n",
      "\tTrain Accuracy: 53.86%\n",
      "Epoch: 18 | Time: 0m 13s\n",
      "\tTrain Loss: 0.922\n",
      "\tTrain Accuracy: 56.91%\n",
      "Epoch: 19 | Time: 0m 13s\n",
      "\tTrain Loss: 0.773\n",
      "\tTrain Accuracy: 59.20%\n",
      "Epoch: 20 | Time: 0m 13s\n",
      "\tTrain Loss: 0.644\n",
      "\tTrain Accuracy: 61.74%\n",
      "Epoch: 21 | Time: 0m 13s\n",
      "\tTrain Loss: 0.537\n",
      "\tTrain Accuracy: 63.40%\n",
      "Epoch: 22 | Time: 0m 13s\n",
      "\tTrain Loss: 0.441\n",
      "\tTrain Accuracy: 65.11%\n",
      "Epoch: 23 | Time: 0m 13s\n",
      "\tTrain Loss: 0.363\n",
      "\tTrain Accuracy: 66.24%\n",
      "Epoch: 24 | Time: 0m 13s\n",
      "\tTrain Loss: 0.299\n",
      "\tTrain Accuracy: 67.30%\n",
      "Epoch: 25 | Time: 0m 13s\n",
      "\tTrain Loss: 0.251\n",
      "\tTrain Accuracy: 68.19%\n",
      "Epoch: 26 | Time: 0m 13s\n",
      "\tTrain Loss: 0.206\n",
      "\tTrain Accuracy: 68.99%\n",
      "Epoch: 27 | Time: 0m 13s\n",
      "\tTrain Loss: 0.175\n",
      "\tTrain Accuracy: 69.44%\n",
      "Epoch: 28 | Time: 0m 13s\n",
      "\tTrain Loss: 0.145\n",
      "\tTrain Accuracy: 69.89%\n",
      "Epoch: 29 | Time: 0m 13s\n",
      "\tTrain Loss: 0.123\n",
      "\tTrain Accuracy: 70.07%\n",
      "Epoch: 30 | Time: 0m 13s\n",
      "\tTrain Loss: 0.106\n",
      "\tTrain Accuracy: 70.32%\n",
      "Epoch: 31 | Time: 0m 13s\n",
      "\tTrain Loss: 0.090\n",
      "\tTrain Accuracy: 70.30%\n",
      "Epoch: 32 | Time: 0m 13s\n",
      "\tTrain Loss: 0.079\n",
      "\tTrain Accuracy: 70.54%\n",
      "Epoch: 33 | Time: 0m 13s\n",
      "\tTrain Loss: 0.070\n",
      "\tTrain Accuracy: 70.56%\n",
      "Epoch: 34 | Time: 0m 13s\n",
      "\tTrain Loss: 0.062\n",
      "\tTrain Accuracy: 70.94%\n",
      "Epoch: 35 | Time: 0m 13s\n",
      "\tTrain Loss: 0.056\n",
      "\tTrain Accuracy: 70.77%\n",
      "Epoch: 36 | Time: 0m 13s\n",
      "\tTrain Loss: 0.050\n",
      "\tTrain Accuracy: 70.75%\n",
      "Epoch: 37 | Time: 0m 13s\n",
      "\tTrain Loss: 0.045\n",
      "\tTrain Accuracy: 70.69%\n",
      "Epoch: 38 | Time: 0m 13s\n",
      "\tTrain Loss: 0.042\n",
      "\tTrain Accuracy: 70.85%\n",
      "Epoch: 39 | Time: 0m 13s\n",
      "\tTrain Loss: 0.039\n",
      "\tTrain Accuracy: 70.84%\n",
      "Epoch: 40 | Time: 0m 13s\n",
      "\tTrain Loss: 0.036\n",
      "\tTrain Accuracy: 71.08%\n",
      "Epoch: 41 | Time: 0m 13s\n",
      "\tTrain Loss: 0.034\n",
      "\tTrain Accuracy: 70.79%\n",
      "Epoch: 42 | Time: 0m 13s\n",
      "\tTrain Loss: 0.031\n",
      "\tTrain Accuracy: 70.93%\n",
      "Epoch: 43 | Time: 0m 13s\n",
      "\tTrain Loss: 0.029\n",
      "\tTrain Accuracy: 71.01%\n",
      "Epoch: 44 | Time: 0m 13s\n",
      "\tTrain Loss: 0.028\n",
      "\tTrain Accuracy: 70.95%\n",
      "Epoch: 45 | Time: 0m 13s\n",
      "\tTrain Loss: 0.026\n",
      "\tTrain Accuracy: 71.14%\n",
      "Epoch: 46 | Time: 0m 13s\n",
      "\tTrain Loss: 0.025\n",
      "\tTrain Accuracy: 70.85%\n",
      "Epoch: 47 | Time: 0m 22s\n",
      "\tTrain Loss: 0.024\n",
      "\tTrain Accuracy: 70.78%\n",
      "Epoch: 48 | Time: 0m 23s\n",
      "\tTrain Loss: 0.022\n",
      "\tTrain Accuracy: 70.73%\n",
      "Epoch: 49 | Time: 0m 23s\n",
      "\tTrain Loss: 0.022\n",
      "\tTrain Accuracy: 71.20%\n",
      "Epoch: 50 | Time: 0m 23s\n",
      "\tTrain Loss: 0.021\n",
      "\tTrain Accuracy: 70.81%\n"
     ]
    }
   ],
   "source": [
    "N_EPOCHS = 50\n",
    "CLIP = 1\n",
    "\n",
    "best_valid_loss = float('inf')\n",
    "\n",
    "train_loss_epochs = np.zeros(N_EPOCHS)\n",
    "train_accuracy_epochs = np.zeros(N_EPOCHS)\n",
    "\n",
    "for epoch in range(N_EPOCHS):\n",
    "    \n",
    "    start_time = time.time()\n",
    "    \n",
    "    train(model, train_dataloader, optimizer, criterion, CLIP)\n",
    "\n",
    "    train_loss, train_accuracy = evaluate(model, train_dataloader, criterion)\n",
    "    \n",
    "    end_time = time.time()\n",
    "    \n",
    "    epoch_mins, epoch_secs = epoch_time(start_time, end_time)\n",
    "\n",
    "    train_loss_epochs[epoch] = train_loss\n",
    "    train_accuracy_epochs[epoch] = train_accuracy\n",
    "\n",
    "    \n",
    "    print(f'Epoch: {epoch+1:02} | Time: {epoch_mins}m {epoch_secs}s')\n",
    "    print(f'\\tTrain Loss: {train_loss:.3f}')\n",
    "    print(f'\\tTrain Accuracy: {100 * train_accuracy:.2f}%')"
   ]
  },
  {
   "cell_type": "markdown",
   "id": "Ac0wiBaSSMwt",
   "metadata": {
    "id": "Ac0wiBaSSMwt"
   },
   "source": [
    "### Loss & Accuracy Diagrams"
   ]
  },
  {
   "cell_type": "code",
   "execution_count": 36,
   "id": "u2hZ876nSPCu",
   "metadata": {
    "id": "u2hZ876nSPCu"
   },
   "outputs": [
    {
     "data": {
      "image/png": "[encoded data removed]",
      "text/plain": [
       "<Figure size 640x480 with 1 Axes>"
      ]
     },
     "metadata": {},
     "output_type": "display_data"
    }
   ],
   "source": [
    "xpoints = np.arange(1, N_EPOCHS+1)\n",
    "ypoints = train_loss_epochs\n",
    "\n",
    "plt.plot(xpoints, ypoints)\n",
    "\n",
    "plt.title(\"Train Loss Diagram\")\n",
    "plt.xlabel(\"# Epoch\")\n",
    "plt.ylabel(\"Cross-Entropy Loss\")\n",
    "\n",
    "plt.show()"
   ]
  },
  {
   "cell_type": "code",
   "execution_count": 37,
   "id": "-igbFgAASWrK",
   "metadata": {
    "id": "-igbFgAASWrK"
   },
   "outputs": [
    {
     "data": {
      "image/png": "[encoded data removed]",
      "text/plain": [
       "<Figure size 640x480 with 1 Axes>"
      ]
     },
     "metadata": {},
     "output_type": "display_data"
    }
   ],
   "source": [
    "xpoints = np.arange(1, N_EPOCHS+1)\n",
    "ypoints = train_accuracy_epochs\n",
    "\n",
    "plt.plot(xpoints, ypoints)\n",
    "\n",
    "plt.title(\"Train Accuracy Diagram\")\n",
    "plt.xlabel(\"# Epoch\")\n",
    "plt.ylabel(\"Accuracy\")\n",
    "\n",
    "plt.show()"
   ]
  },
  {
   "cell_type": "markdown",
   "id": "FbBM0RpFSiFs",
   "metadata": {
    "id": "FbBM0RpFSiFs"
   },
   "source": [
    "### Model Testing"
   ]
  },
  {
   "cell_type": "code",
   "execution_count": 38,
   "id": "W7On1xdtSkH4",
   "metadata": {
    "id": "W7On1xdtSkH4"
   },
   "outputs": [
    {
     "name": "stdout",
     "output_type": "stream",
     "text": [
      "| Test Loss: 7.868\n",
      "| Test Accuracy: 17.30%\n"
     ]
    }
   ],
   "source": [
    "test_loss, test_accuracy = evaluate(model, test_dataloader, criterion)\n",
    "\n",
    "print(f'| Test Loss: {test_loss:.3f}')\n",
    "print(f'| Test Accuracy: {100 * test_accuracy:.2f}%')"
   ]
  },
  {
   "cell_type": "code",
   "execution_count": 39,
   "id": "DMgQERRbSwwW",
   "metadata": {
    "id": "DMgQERRbSwwW"
   },
   "outputs": [
    {
     "name": "stdout",
     "output_type": "stream",
     "text": [
      "Current Beyt: من این را که بی تاج و آرایشست / گزیدم که این اندر افزایشست\n",
      "Next: به رنج از پی به گزین آمدم / نه از بهر دیبای چین آمدم\n"
     ]
    }
   ],
   "source": [
    "random_index = random.randint(0, len(test_dataset))\n",
    "\n",
    "print(f\"Current Beyt: {test_dataset.data.loc[random_index,'Input']}\")\n",
    "print(f\"Next: {test_dataset.data.loc[random_index,'Output']}\")"
   ]
  },
  {
   "cell_type": "code",
   "execution_count": 40,
   "id": "kgEQB7q6SyP0",
   "metadata": {
    "id": "kgEQB7q6SyP0"
   },
   "outputs": [
    {
     "name": "stdout",
     "output_type": "stream",
     "text": [
      "Predicted Next Beyt:\n",
      "وگرنه\n",
      "ز\n",
      "تو\n",
      "کژی\n",
      "و\n",
      "رنج\n",
      "و\n",
      "رنج\n",
      "/\n",
      "بد\n",
      "آمد\n",
      "یکی\n",
      "را\n",
      "توان\n",
      "یار\n"
     ]
    }
   ],
   "source": [
    "dic = test_dataset[random_index]\n",
    "input = dic['Input']\n",
    "output = dic['Output']\n",
    "\n",
    "model.eval()\n",
    "\n",
    "with torch.no_grad():\n",
    "  src = input.to(device)\n",
    "  src = torch.reshape(src, (len(src), 1))\n",
    "\n",
    "  trg = output.to(device)\n",
    "  trg = torch.reshape(trg, (len(trg), 1))\n",
    "\n",
    "  output = model(src, trg, 0) #turn off teacher forcing\n",
    "\n",
    "  output_dim = output.shape[-1]\n",
    "\n",
    "  output = output[1:].view(-1, output_dim)\n",
    "  trg = trg[1:].view(-1)\n",
    "\n",
    "  output = (output.argmax(dim=1))\n",
    "\n",
    "print(f'Predicted Next Beyt:')\n",
    "\n",
    "for i in range(len(output)):\n",
    "  print(train_dataset.vocab.itos[output[i].item()])"
   ]
  },
  {
   "cell_type": "code",
   "execution_count": null,
   "id": "b882e36d",
   "metadata": {},
   "outputs": [],
   "source": []
  }
 ],
 "metadata": {
  "accelerator": "GPU",
  "colab": {
   "provenance": []
  },
  "gpuClass": "standard",
  "kernelspec": {
   "display_name": "Python 3 (ipykernel)",
   "language": "python",
   "name": "python3"
  },
  "language_info": {
   "codemirror_mode": {
    "name": "ipython",
    "version": 3
   },
   "file_extension": ".py",
   "mimetype": "text/x-python",
   "name": "python",
   "nbconvert_exporter": "python",
   "pygments_lexer": "ipython3",
   "version": "3.8.10"
  }
 },
 "nbformat": 4,
 "nbformat_minor": 5
}
